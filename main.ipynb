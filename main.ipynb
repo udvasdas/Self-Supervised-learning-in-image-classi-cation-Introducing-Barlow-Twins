{
  "cells": [
    {
      "cell_type": "markdown",
      "metadata": {
        "id": "dab2d7b1"
      },
      "source": [
        "## Setup\n",
        "This notebook requires some packages besides pytorch-lightning."
      ],
      "id": "dab2d7b1"
    },
    {
      "cell_type": "code",
      "execution_count": 1,
      "metadata": {
        "id": "3bcc2dc2"
      },
      "outputs": [],
      "source": [
        "! pip install --quiet \"matplotlib\" \"ipython[notebook]\" \"torchvision\" \"setuptools==59.5.0\" \"torch>=1.8\" \"torchmetrics>=0.7\" \"pytorch-lightning>=1.4\""
      ],
      "id": "3bcc2dc2"
    },
    {
      "cell_type": "markdown",
      "metadata": {
        "id": "cefe847c"
      },
      "source": [
        "## Barlow Twins\n",
        "\n",
        "Barlow Twins finds itself in unique place amongst the current state-of-the-art self-supervised learning methods. It does not fall under the existing categories of contrastive learning, knowledge distillation or clustering based methods. Instead, it creates its own category of redundancy reductionand achieves competitive performance with a simple yet effective loss function."
      ],
      "id": "cefe847c"
    },
    {
      "cell_type": "code",
      "execution_count": 4,
      "metadata": {
        "id": "4addcae1"
      },
      "outputs": [],
      "source": [
        "from functools import partial\n",
        "from typing import Sequence, Tuple, Union\n",
        "\n",
        "import matplotlib.pyplot as plt\n",
        "import numpy as np\n",
        "import pandas as pd\n",
        "import pytorch_lightning as pl\n",
        "import torch\n",
        "import torch.nn as nn\n",
        "import torch.nn.functional as F\n",
        "from torch.optim import lr_scheduler\n",
        "from torch.autograd import Variable\n",
        "from sklearn.metrics import f1_score\n",
        "import torchvision.transforms as transforms\n",
        "import torchvision.transforms.functional as VisionF\n",
        "from pytorch_lightning import Callback, LightningModule, Trainer\n",
        "from pytorch_lightning.callbacks import ModelCheckpoint\n",
        "from torch import Tensor\n",
        "from torch.utils.data import DataLoader ,TensorDataset\n",
        "from torchmetrics.functional import accuracy\n",
        "from torchvision.datasets import CIFAR10, MNIST, CIFAR100\n",
        "import torch.utils.data as data_utils\n",
        "from torchvision.models.resnet import resnet18 ,resnet50\n",
        "from torchvision.utils import make_grid\n",
        "import torchvision\n",
        "from sklearn.model_selection import train_test_split\n",
        "from torch.utils.data import Dataset\n",
        "import warnings\n",
        "import ast\n",
        "import time\n",
        "\n",
        "warnings.filterwarnings('ignore')\n",
        "# batch_size = 32\n",
        "# num_workers = 0  # to run notebook on CPU\n",
        "# max_epochs = 200\n",
        "# z_dim = 128\n",
        "\n",
        "\n",
        "batch_size = 64\n",
        "num_workers = 0  # to run notebook on CPU\n",
        "max_epochs = 2000\n",
        "z_dim = 8192"
      ],
      "id": "4addcae1"
    },
    {
      "cell_type": "markdown",
      "metadata": {
        "id": "acfe4f07"
      },
      "source": [
        "### Transforms\n",
        "\n",
        "We first define the data augmentation pipeline used in Barlow Twins. Here, we use pipeline proposed in SimCLR, which generates two copies/views of an input image by applying the following transformations in a sequence.\n",
        "\n",
        "First it takes a random crop of the image and resizes it to a fixed pre-specified size. Then, it applies a left-to-right random flip with a probability of 0.5. This step is followed by a composition of color jitter, conversion to grayscale with a probability of 0.2 and the application of a Gaussian blur filter. Finally, we normalize the image and convert it to a tensor.\n",
        "\n",
        "Within this transform, we add a third view for our online finetuner, which we explain later on. But, to explain things quickly here, we add a another transform to test our encoder on a downstream classification task."
      ],
      "id": "acfe4f07"
    },
    {
      "cell_type": "code",
      "execution_count": 5,
      "metadata": {
        "id": "0268ff9d"
      },
      "outputs": [],
      "source": [
        "class BarlowTwinsTransform:\n",
        "    def __init__(self, train=True, input_height=224, gaussian_blur=True, jitter_strength=1.0, normalize=None):\n",
        "\n",
        "        self.input_height = input_height\n",
        "        self.gaussian_blur = gaussian_blur\n",
        "        self.jitter_strength = jitter_strength\n",
        "        self.normalize = normalize\n",
        "        self.train = train\n",
        "\n",
        "        color_jitter = transforms.ColorJitter(\n",
        "            0.8 * self.jitter_strength,\n",
        "            0.8 * self.jitter_strength,\n",
        "            0.8 * self.jitter_strength,\n",
        "            0.2 * self.jitter_strength,\n",
        "        )\n",
        "\n",
        "        color_transform = [transforms.RandomApply([color_jitter], p=0.8), transforms.RandomGrayscale(p=0.2)]\n",
        "\n",
        "        if self.gaussian_blur:\n",
        "            kernel_size = int(0.1 * self.input_height)\n",
        "            if kernel_size % 2 == 0:\n",
        "                kernel_size += 1\n",
        "\n",
        "            color_transform.append(transforms.RandomApply([transforms.GaussianBlur(kernel_size=kernel_size)], p=0.5))\n",
        "\n",
        "        self.color_transform = transforms.Compose(color_transform)\n",
        "\n",
        "        if normalize is None:\n",
        "            self.final_transform = transforms.ToTensor()\n",
        "        else:\n",
        "            self.final_transform = transforms.Compose([transforms.ToTensor(), normalize])\n",
        "\n",
        "        self.transform = transforms.Compose(\n",
        "            [\n",
        "                transforms.RandomResizedCrop(self.input_height),\n",
        "                transforms.RandomHorizontalFlip(p=0.5),\n",
        "                self.color_transform,\n",
        "                self.final_transform,\n",
        "            ]\n",
        "        )\n",
        "\n",
        "        self.finetune_transform = None\n",
        "        if self.train:\n",
        "            self.finetune_transform = transforms.Compose(\n",
        "                [\n",
        "                    # transforms.RandomCrop(32, padding=4, padding_mode=\"reflect\"),\n",
        "                    # transforms.RandomHorizontalFlip(),\n",
        "                    transforms.ToTensor(),\n",
        "                ]\n",
        "            )\n",
        "        else:\n",
        "            self.finetune_transform = transforms.ToTensor()\n",
        "\n",
        "    def __call__(self, sample):\n",
        "        return self.transform(sample), self.transform(sample), self.finetune_transform(sample)"
      ],
      "id": "0268ff9d"
    },
    {
      "cell_type": "markdown",
      "metadata": {
        "id": "9ff849b7"
      },
      "source": [
        "### Dataset\n",
        "\n",
        "We select CIFAR10 as the dataset to demonstrate the pre-training process for Barlow Twins. CIFAR10 images are 32x32 in size and we do not apply a Gaussian blur transformation on them. In this step, we create the training and validation dataloaders for CIFAR10."
      ],
      "id": "9ff849b7"
    },
    {
      "cell_type": "code",
      "execution_count": 6,
      "metadata": {
        "colab": {
          "base_uri": "https://localhost:8080/"
        },
        "id": "e3468fce",
        "outputId": "b7d2fad5-d91b-4010-b9b3-1b693caf890b"
      },
      "outputs": [
        {
          "output_type": "stream",
          "name": "stdout",
          "text": [
            "Files already downloaded and verified\n",
            "Files already downloaded and verified\n"
          ]
        }
      ],
      "source": [
        "def cifar10_normalization():\n",
        "    normalize = transforms.Normalize(\n",
        "        mean=[x / 255.0 for x in [125.3, 123.0, 113.9]], std=[x / 255.0 for x in [63.0, 62.1, 66.7]]\n",
        "    )\n",
        "    return normalize\n",
        "\n",
        "\n",
        "train_transform = BarlowTwinsTransform(\n",
        "    train=True, input_height=32, gaussian_blur=False, jitter_strength=0.5, normalize=cifar10_normalization()\n",
        ")\n",
        "train_dataset = CIFAR10(root=\".\", train=True, download=True, transform=train_transform)\n",
        "\n",
        "train_set_size = 40000\n",
        "valid_set_size = 10000\n",
        "train_dataset, valid_dataset = data_utils.random_split(train_dataset, [train_set_size, valid_set_size],generator=torch.Generator().manual_seed(2022)) # Seed is set for Reproducibility\n",
        "\n",
        "\n",
        "test_transform = BarlowTwinsTransform(\n",
        "    train=False, input_height=32, gaussian_blur=False, jitter_strength=False, normalize= None\n",
        ")\n",
        "\n",
        "test_dataset = CIFAR10(root=\".\", train=False, download=True, transform = test_transform)\n",
        "\n",
        "\n",
        "train_loader1 = DataLoader(train_dataset, batch_size=batch_size, shuffle=True, num_workers=num_workers, drop_last=True)\n",
        "val_loader1 = DataLoader(valid_dataset, batch_size=batch_size, shuffle=False, num_workers=num_workers, drop_last=True)\n",
        "test_loader1 = DataLoader(test_dataset, batch_size=batch_size, shuffle=False, num_workers=num_workers, drop_last=True)"
      ],
      "id": "e3468fce"
    },
    {
      "cell_type": "markdown",
      "source": [
        "## Sampling\n"
      ],
      "metadata": {
        "id": "g7JKG66RClPq"
      },
      "id": "g7JKG66RClPq"
    },
    {
      "cell_type": "code",
      "execution_count": 7,
      "metadata": {
        "id": "2gpRERD1FdYw"
      },
      "outputs": [],
      "source": [
        "train_img=[]\n",
        "np.random.seed(2022) # Seed is set for Reproducibility\n",
        "train_labels=[]\n",
        "for i,j in enumerate(train_loader1):\n",
        "  train_img.extend((j[0][0]).detach().numpy())\n",
        "  train_labels.extend(j[1].detach().numpy())\n",
        "\n",
        "n_samples = len(train_img)\n",
        "indices = np.arange(n_samples)\n",
        "(\n",
        "    data_train,\n",
        "    _,\n",
        "    labels_train,\n",
        "    _,\n",
        "    indices_train,\n",
        "    _,\n",
        ") = train_test_split(train_img, train_labels, indices, test_size=0.8, stratify=train_labels)"
      ],
      "id": "2gpRERD1FdYw"
    },
    {
      "cell_type": "code",
      "execution_count": 8,
      "metadata": {
        "id": "AQ8drl7YFdrh"
      },
      "outputs": [],
      "source": [
        "val_img=[]\n",
        "val_labels=[]\n",
        "for i,j in enumerate(val_loader1):\n",
        "  val_img.extend((j[0][0]).detach().numpy())\n",
        "  val_labels.extend(j[1].detach().numpy())\n",
        "\n",
        "n_samples = len(val_img)\n",
        "indices = np.arange(n_samples)\n",
        "(\n",
        "    data_val,\n",
        "    _,\n",
        "    labels_val,\n",
        "    _,\n",
        "    indices_val,\n",
        "    _,\n",
        ") = train_test_split(val_img, val_labels, indices, test_size=0.8, stratify=val_labels)"
      ],
      "id": "AQ8drl7YFdrh"
    },
    {
      "cell_type": "code",
      "execution_count": 9,
      "metadata": {
        "id": "ye7kuLA8bltO"
      },
      "outputs": [],
      "source": [
        "train_datasetf = data_utils.Subset(train_dataset , indices_train)\n",
        "valid_datasetf = data_utils.Subset(valid_dataset , indices_val)\n",
        "train_loader = DataLoader(train_datasetf, batch_size=batch_size, shuffle=True, num_workers=num_workers, drop_last=True, )\n",
        "val_loader = DataLoader(valid_datasetf, batch_size=batch_size, shuffle=False, num_workers=num_workers, drop_last=True)"
      ],
      "id": "ye7kuLA8bltO"
    },
    {
      "cell_type": "markdown",
      "metadata": {
        "id": "e5d20bb9"
      },
      "source": [
        "### Plot images\n",
        "\n",
        "To see how the CIFAR10 images look after the data augmentation pipeline, we load a few images from the dataloader and plot them here."
      ],
      "id": "e5d20bb9"
    },
    {
      "cell_type": "code",
      "execution_count": 9,
      "metadata": {
        "colab": {
          "base_uri": "https://localhost:8080/",
          "height": 252
        },
        "id": "ffdbfa81",
        "outputId": "89f49db8-d138-461a-cc06-9cd819426d2f"
      },
      "outputs": [
        {
          "output_type": "display_data",
          "data": {
            "text/plain": [
              "<Figure size 432x288 with 1 Axes>"
            ],
            "image/png": "[encoded data removed]"
          },
          "metadata": {}
        }
      ],
      "source": [
        "for batch in val_loader:\n",
        "    (_, img2, img1), label = batch\n",
        "    break\n",
        "img_grid = make_grid(img1, normalize=True)\n",
        "\n",
        "\n",
        "def show(imgs):\n",
        "    if not isinstance(imgs, list):\n",
        "        imgs = [imgs]\n",
        "    fix, axs = plt.subplots(ncols=len(imgs), squeeze=False)\n",
        "    for i, img in enumerate(imgs):\n",
        "        img = img.detach()\n",
        "        img = VisionF.to_pil_image(img)\n",
        "        axs[0, i].imshow(np.asarray(img))\n",
        "        axs[0, i].set(xticklabels=[], yticklabels=[], xticks=[], yticks=[])\n",
        "\n",
        "\n",
        "show(img_grid)"
      ],
      "id": "ffdbfa81"
    },
    {
      "cell_type": "markdown",
      "metadata": {
        "id": "1ebdbd2b"
      },
      "source": [
        "### Barlow Twins Loss\n",
        "\n",
        "Here we define the loss function for Barlow Twins. It first normalizes the D dimensinonal vectors from the projection head and then computes the DxD cross-correlation matrix between the normalized vectors of the 2 views of each image.\n",
        "\n",
        "Then it splits this cross-correlation matrix into two parts. The first part, the diagonal of this matrix is brought closer to 1, which pushes up the cosine similarity between the latent vectors of two views of each image, thus making the backbone invariant to the transformations applied to the views. The second part of the loss pushes the non-diagonal elements of the cross-corrlelation matrix closes to 0. This reduces the redundancy between the different dimensions of the latent vector."
      ],
      "id": "1ebdbd2b"
    },
    {
      "cell_type": "code",
      "execution_count": null,
      "metadata": {
        "id": "06e4e4c0"
      },
      "outputs": [],
      "source": [
        "class BarlowTwinsLoss(nn.Module):\n",
        "    def __init__(self, batch_size, lambda_coeff=5e-3, z_dim=8192):\n",
        "        super().__init__()\n",
        "\n",
        "        self.z_dim = z_dim\n",
        "        self.batch_size = batch_size\n",
        "        self.lambda_coeff = lambda_coeff\n",
        "\n",
        "    def off_diagonal_ele(self, x):\n",
        "        # taken from: https://github.com/facebookresearch/barlowtwins/blob/main/main.py\n",
        "        # return a flattened view of the off-diagonal elements of a square matrix\n",
        "        n, m = x.shape\n",
        "        assert n == m\n",
        "        return x.flatten()[:-1].view(n - 1, n + 1)[:, 1:].flatten()\n",
        "\n",
        "    def forward(self, z1, z2):\n",
        "        # N x D, where N is the batch size and D is output dim of projection head\n",
        "        z1_norm = (z1 - torch.mean(z1, dim=0)) / torch.std(z1, dim=0)\n",
        "        z2_norm = (z2 - torch.mean(z2, dim=0)) / torch.std(z2, dim=0)\n",
        "\n",
        "        cross_corr = torch.matmul(z1_norm.T, z2_norm) / self.batch_size\n",
        "\n",
        "        on_diag = torch.diagonal(cross_corr).add_(-1).pow_(2).sum()\n",
        "        off_diag = self.off_diagonal_ele(cross_corr).pow_(2).sum()\n",
        "\n",
        "        return on_diag + self.lambda_coeff * off_diag"
      ],
      "id": "06e4e4c0"
    },
    {
      "cell_type": "markdown",
      "metadata": {
        "id": "af086bbe"
      },
      "source": [
        "### Backbone\n",
        "\n",
        "This is a standard Resnet backbone that we pre-train using the Barlow Twins method. To accommodate the 32x32 CIFAR10 images, we replace the first 7x7 convolution of the Resnet backbone by a 3x3 filter. We also remove the first Maxpool layer from the network for CIFAR10 images."
      ],
      "id": "af086bbe"
    },
    {
      "cell_type": "code",
      "execution_count": null,
      "metadata": {
        "id": "123382f1"
      },
      "outputs": [],
      "source": [
        "encoder = resnet50()\n",
        "\n",
        "# for CIFAR10, replace the first 7x7 conv with smaller 3x3 conv and remove the first maxpool\n",
        "encoder.conv1 = nn.Conv2d(3, 64, kernel_size=3, stride=1, padding=1, bias=False)\n",
        "encoder.maxpool = nn.MaxPool2d(kernel_size=1, stride=1)\n",
        "\n",
        "# replace classification fc layer of Resnet to obtain representations from the backbone\n",
        "encoder.fc = nn.Identity()"
      ],
      "id": "123382f1"
    },
    {
      "cell_type": "markdown",
      "metadata": {
        "id": "f440f360"
      },
      "source": [
        "### Projection head\n",
        "\n",
        "Unlike SimCLR and BYOL, the downstream performance of Barlow Twins greatly benefits from having a larger projection head after the backbone network. The paper utilizes a 3 layer MLP with 8192 hidden dimensions and 8192 as the output dimenion of the projection head. For our purpose we use a smaller projection head. But, it is imperative to mention here that in practice, Barlow Twins needs to be trained using a bigger projection head as it is highly sensitive to its architecture and output dimensionality."
      ],
      "id": "f440f360"
    },
    {
      "cell_type": "code",
      "execution_count": null,
      "metadata": {
        "id": "2975b668"
      },
      "outputs": [],
      "source": [
        "class ProjectionHead(nn.Module):\n",
        "    def __init__(self, input_dim=2048, hidden_dim=8192, output_dim=8192):\n",
        "        super().__init__()\n",
        "\n",
        "        self.projection_head = nn.Sequential(\n",
        "            nn.Linear(input_dim, hidden_dim, bias=True),\n",
        "            nn.BatchNorm1d(hidden_dim),\n",
        "            nn.ReLU(),\n",
        "            nn.Linear(hidden_dim, output_dim, bias=False),\n",
        "        )\n",
        "\n",
        "    def forward(self, x):\n",
        "        return self.projection_head(x)"
      ],
      "id": "2975b668"
    },
    {
      "cell_type": "markdown",
      "metadata": {
        "id": "86a6d540"
      },
      "source": [
        "### Learning rate warmup\n",
        "\n",
        "For the purposes of this tutorial, we keep things simple and use a linear warmup schedule with Adam optimizer. In our previous experiments we have found that linear warmup part is much more important for the final performance of a model than the cosine decay component of the schedule."
      ],
      "id": "86a6d540"
    },
    {
      "cell_type": "code",
      "execution_count": null,
      "metadata": {
        "id": "56a7b0b7"
      },
      "outputs": [],
      "source": [
        "def fn(warmup_steps, step):\n",
        "    if step < warmup_steps:\n",
        "        return float(step) / float(max(1, warmup_steps))\n",
        "    else:\n",
        "        return 1.0\n",
        "\n",
        "\n",
        "def linear_warmup_decay(warmup_steps):\n",
        "    return partial(fn, warmup_steps)"
      ],
      "id": "56a7b0b7"
    },
    {
      "cell_type": "markdown",
      "metadata": {
        "id": "f2c9250b"
      },
      "source": [
        "### Barlow Twins Lightning Module\n",
        "\n",
        "We keep the LightningModule for Barlow Twins neat and simple. It takes in an backbone encoder and initializes the projection head and the loss function. We configure the optimizer and the learning rate scheduler in the ``configure_optimizers`` method."
      ],
      "id": "f2c9250b"
    },
    {
      "cell_type": "code",
      "execution_count": null,
      "metadata": {
        "id": "cab91fad"
      },
      "outputs": [],
      "source": [
        "loss_tr = []\n",
        "loss_vl = []\n",
        "class BarlowTwins(LightningModule):\n",
        "    def __init__(\n",
        "        self,\n",
        "        encoder,\n",
        "        encoder_out_dim,\n",
        "        num_training_samples,\n",
        "        batch_size,\n",
        "        lambda_coeff=5e-3,\n",
        "        z_dim=8192,\n",
        "        learning_rate=1e-4,\n",
        "        warmup_epochs=10,\n",
        "        max_epochs=2000,\n",
        "    ):\n",
        "        super().__init__()\n",
        "\n",
        "        self.encoder = encoder\n",
        "        self.projection_head = ProjectionHead(input_dim=encoder_out_dim, hidden_dim=encoder_out_dim, output_dim=z_dim)\n",
        "        self.loss_fn = BarlowTwinsLoss(batch_size=batch_size, lambda_coeff=lambda_coeff, z_dim=z_dim)\n",
        "\n",
        "        self.learning_rate = learning_rate\n",
        "        self.warmup_epochs = warmup_epochs\n",
        "        self.max_epochs = max_epochs\n",
        "\n",
        "        self.train_iters_per_epoch = num_training_samples // batch_size\n",
        "\n",
        "    def forward(self, x):\n",
        "        return self.encoder(x)\n",
        "\n",
        "    def shared_step(self, batch):\n",
        "        (x1, x2, _), _ = batch\n",
        "        z1 = self.projection_head(self.encoder(x1))\n",
        "        z2 = self.projection_head(self.encoder(x2))\n",
        "\n",
        "        return self.loss_fn(z1, z2)\n",
        "\n",
        "    def training_step(self, batch, batch_idx):\n",
        "        loss = self.shared_step(batch)\n",
        "        self.log(\"train_loss\", loss, on_step=True, on_epoch=False)\n",
        "        loss_tr.append(loss)\n",
        "        return loss\n",
        "        \n",
        "        \n",
        "\n",
        "    def validation_step(self, batch, batch_idx):\n",
        "        loss = self.shared_step(batch)\n",
        "        loss_vl.append(loss)\n",
        "        self.log(\"val_loss\", loss, on_step=False, on_epoch=True)\n",
        "\n",
        "    def configure_optimizers(self):\n",
        "        optimizer = torch.optim.Adam(self.parameters(), lr=self.learning_rate)\n",
        "\n",
        "        warmup_steps = self.train_iters_per_epoch * self.warmup_epochs\n",
        "\n",
        "        scheduler = {\n",
        "            \"scheduler\": torch.optim.lr_scheduler.CosineAnnealingWarmRestarts(\n",
        "                optimizer,\n",
        "                T_0 = 10,\n",
        "            ),\n",
        "            \"interval\": \"step\",\n",
        "            \"frequency\": 1,\n",
        "        }\n",
        "\n",
        "        return [optimizer], [scheduler]"
      ],
      "id": "cab91fad"
    },
    {
      "cell_type": "markdown",
      "metadata": {
        "id": "c3035885"
      },
      "source": [
        "### Evaluation\n",
        "\n",
        "We define a callback which appends a linear layer on top of the encoder and trains the classification evaluation head in an online manner. We make sure not to backpropagate the gradients back to the encoder while tuning the linear layer. This technique was used in SimCLR as well and they showed that the final downstream classification peformance is pretty much similar to the results on online finetuning as the training progresses."
      ],
      "id": "c3035885"
    },
    {
      "cell_type": "code",
      "execution_count": null,
      "metadata": {
        "id": "e1321f73"
      },
      "outputs": [],
      "source": [
        "class OnlineFineTuner(Callback):\n",
        "    def __init__(\n",
        "        self,\n",
        "        encoder_output_dim: int,\n",
        "        num_classes: int,\n",
        "    ) -> None:\n",
        "        super().__init__()\n",
        "\n",
        "        self.optimizer: torch.optim.Optimizer\n",
        "\n",
        "        self.encoder_output_dim = encoder_output_dim\n",
        "        self.num_classes = num_classes\n",
        "\n",
        "    def on_fit_start(self, trainer: pl.Trainer, pl_module: pl.LightningModule) -> None:\n",
        "\n",
        "        # add linear_eval layer and optimizer\n",
        "        pl_module.online_finetuner = nn.Linear(self.encoder_output_dim, self.num_classes).to(pl_module.device)\n",
        "        self.optimizer = torch.optim.SGD(pl_module.online_finetuner.parameters(), lr=1e-4)\n",
        "\n",
        "    def extract_online_finetuning_view(\n",
        "        self, batch: Sequence, device: Union[str, torch.device]\n",
        "    ) -> Tuple[Tensor, Tensor]:\n",
        "        (_, _, finetune_view), y = batch\n",
        "        finetune_view = finetune_view.to(device)\n",
        "        y = y.to(device)\n",
        "\n",
        "        return finetune_view, y\n",
        "\n",
        "    def on_train_batch_end(\n",
        "        self,\n",
        "        trainer: pl.Trainer,\n",
        "        pl_module: pl.LightningModule,\n",
        "        outputs: Sequence,\n",
        "        batch: Sequence,\n",
        "        batch_idx: int,\n",
        "        dataloader_idx: int,\n",
        "    ) -> None:\n",
        "        x, y = self.extract_online_finetuning_view(batch, pl_module.device)\n",
        "        \n",
        "        \n",
        "        with torch.no_grad():\n",
        "            feats = pl_module(x)\n",
        "\n",
        "        feats = feats.detach()\n",
        "        preds = pl_module.online_finetuner(feats)\n",
        "        loss = F.cross_entropy(preds, y)\n",
        "\n",
        "        loss.backward()\n",
        "        self.optimizer.step()\n",
        "        self.optimizer.zero_grad()\n",
        "\n",
        "        acc = accuracy(F.softmax(preds, dim=1), y)\n",
        "        pl_module.log(\"online_train_acc\", acc, on_step=True, on_epoch=False)\n",
        "        pl_module.log(\"online_train_loss\", loss, on_step=True, on_epoch=False)\n",
        "\n",
        "    def on_validation_batch_end(\n",
        "        self,\n",
        "        trainer: pl.Trainer,\n",
        "        pl_module: pl.LightningModule,\n",
        "        outputs: Sequence,\n",
        "        batch: Sequence,\n",
        "        batch_idx: int,\n",
        "        dataloader_idx: int,\n",
        "    ) -> None:\n",
        "        x, y = self.extract_online_finetuning_view(batch, pl_module.device)\n",
        "\n",
        "        with torch.no_grad():\n",
        "            feats = pl_module(x)\n",
        "\n",
        "        feats = feats.detach()\n",
        "        preds = pl_module.online_finetuner(feats)\n",
        "        loss = F.cross_entropy(preds, y)\n",
        "\n",
        "        acc = accuracy(F.softmax(preds, dim=1), y)\n",
        "        pl_module.log(\"online_val_acc\", acc, on_step=False, on_epoch=True, sync_dist=True)\n",
        "        pl_module.log(\"online_val_loss\", loss, on_step=False, on_epoch=True, sync_dist=True)"
      ],
      "id": "e1321f73"
    },
    {
      "cell_type": "markdown",
      "metadata": {
        "id": "f6325fed"
      },
      "source": [
        "Finally, we define the trainer for training the model. We pass in the ``train_loader`` and ``val_loader`` we had initialized earlier to the ``fit`` function."
      ],
      "id": "f6325fed"
    },
    {
      "cell_type": "code",
      "execution_count": null,
      "metadata": {
        "colab": {
          "base_uri": "https://localhost:8080/"
        },
        "id": "yK65cBKWqRnL",
        "outputId": "2fb82ba6-4622-42c1-bf1b-cee403e3db08"
      },
      "outputs": [
        {
          "output_type": "stream",
          "name": "stderr",
          "text": [
            "ModelCheckpoint(save_last=True, save_top_k=-1, monitor=None) will duplicate the last checkpoint saved.\n"
          ]
        }
      ],
      "source": [
        "encoder_out_dim = 2048\n",
        "\n",
        "model = BarlowTwins(\n",
        "    encoder=encoder,\n",
        "    encoder_out_dim=encoder_out_dim,\n",
        "    num_training_samples=len(train_datasetf),\n",
        "    batch_size=batch_size,\n",
        "    z_dim=z_dim,\n",
        ")\n",
        "\n",
        "# online_finetuner = OnlineFineTuner(encoder_output_dim=encoder_out_dim, num_classes=10)\n",
        "checkpoint_callback = ModelCheckpoint(every_n_epochs=100, save_top_k=-1, save_last=True)\n"
      ],
      "id": "yK65cBKWqRnL"
    },
    {
      "cell_type": "code",
      "execution_count": null,
      "metadata": {
        "colab": {
          "base_uri": "https://localhost:8080/"
        },
        "id": "3d172029",
        "outputId": "822503d1-efa7-4c85-ee68-36915b93c69f"
      },
      "outputs": [
        {
          "output_type": "stream",
          "name": "stderr",
          "text": [
            "GPU available: True, used: True\n",
            "TPU available: False, using: 0 TPU cores\n",
            "IPU available: False, using: 0 IPUs\n",
            "HPU available: False, using: 0 HPUs\n"
          ]
        }
      ],
      "source": [
        "epochs = 150\n",
        "trainer = Trainer(\n",
        "    max_epochs=epochs,\n",
        "    accelerator=\"auto\",\n",
        "    devices=1 if torch.cuda.is_available() else None,  # limiting got iPython runs\n",
        "    callbacks=[checkpoint_callback]#[online_finetuner, checkpoint_callback],\n",
        ")\n",
        "\n",
        "# # uncomment this to train the model\n",
        "# start = time.time()\n",
        "# trainer.fit(model, train_loader, val_loader)\n",
        "# time_taken = time.time() - start\n",
        "# print(f\"Time Taken : {time_taken}\")"
      ],
      "id": "3d172029"
    },
    {
      "cell_type": "code",
      "execution_count": null,
      "metadata": {
        "id": "NodJBMjXDby1"
      },
      "outputs": [],
      "source": [
        "ll = [i.item() for i in loss_tr]\n",
        "# Calculating Training Loss\n",
        "kk = []\n",
        "iter = int(len(ll)/epochs)\n",
        "for i in range(epochs):\n",
        "  start = i*iter\n",
        "  end = (i+1)*iter\n",
        "  kk.append(sum(ll[start : end])/iter)\n",
        "\n",
        "# Calculating Validation Losses\n",
        "kk_vl = []\n",
        "iter = int(len(lv)/epochs)\n",
        "for i in range(epochs):\n",
        "  start = i*iter\n",
        "  end = (i+1)*iter\n",
        "  kk_vl.append(sum(lv[start : end])/iter)\n",
        "# Plotting the Losses\n",
        "plt.plot(kk)\n",
        "plt.plot(kk_vl)"
      ],
      "id": "NodJBMjXDby1"
    },
    {
      "cell_type": "code",
      "source": [
        "# # Save the Training Loss\n",
        "# file = open(\"/content/gdrive/MyDrive/BarlowTwin_loss/loss.txt\", \"w\") \n",
        "# str1 = repr(kk)\n",
        "# file.write(str1)\n",
        "# file.close()"
      ],
      "metadata": {
        "id": "9bogNb1c7O7w"
      },
      "id": "9bogNb1c7O7w",
      "execution_count": null,
      "outputs": []
    },
    {
      "cell_type": "code",
      "source": [
        "# # Save the Validation Loss\n",
        "# file = open(\"/content/gdrive/MyDrive/BarlowTwin_loss/val_loss.txt\", \"w\") \n",
        "# str1 = repr(kk_vl)\n",
        "# file.write(str1)\n",
        "# file.close()"
      ],
      "metadata": {
        "id": "mO55AgJz83LY"
      },
      "id": "mO55AgJz83LY",
      "execution_count": null,
      "outputs": []
    },
    {
      "cell_type": "code",
      "execution_count": null,
      "metadata": {
        "id": "RF-XcAal6Qo-",
        "colab": {
          "base_uri": "https://localhost:8080/"
        },
        "outputId": "50806514-fd74-41aa-bfe5-4b6e26cd37fc"
      },
      "outputs": [
        {
          "output_type": "stream",
          "name": "stdout",
          "text": [
            "Mounted at /content/gdrive\n"
          ]
        }
      ],
      "source": [
        "from google.colab import drive\n",
        "drive.mount('/content/gdrive', force_remount=True)"
      ],
      "id": "RF-XcAal6Qo-"
    },
    {
      "cell_type": "code",
      "execution_count": null,
      "metadata": {
        "id": "HGdAAeZjTX0d"
      },
      "outputs": [],
      "source": [
        "# SAVING the model\n",
        "model_save_name = 'classifier1000.pt'\n",
        "path = F\"/content/gdrive/MyDrive/BarlowTwin_loss/{model_save_name}\" \n",
        "torch.save(model.state_dict(), path)"
      ],
      "id": "HGdAAeZjTX0d"
    },
    {
      "cell_type": "markdown",
      "source": [
        "## Loss Propagation"
      ],
      "metadata": {
        "id": "LPOQbIDVEZbO"
      },
      "id": "LPOQbIDVEZbO"
    },
    {
      "cell_type": "code",
      "execution_count": null,
      "metadata": {
        "id": "DbOmIYadrdfh",
        "colab": {
          "base_uri": "https://localhost:8080/",
          "height": 283
        },
        "outputId": "0b58341e-5a69-4cc9-8af3-4bff9e28cffc"
      },
      "outputs": [
        {
          "output_type": "execute_result",
          "data": {
            "text/plain": [
              "[<matplotlib.lines.Line2D at 0x7f115441ff90>]"
            ]
          },
          "metadata": {},
          "execution_count": 18
        },
        {
          "output_type": "display_data",
          "data": {
            "text/plain": [
              "<Figure size 432x288 with 1 Axes>"
            ],
            "image/png": "[encoded data removed]"
          },
          "metadata": {
            "needs_background": "light"
          }
        }
      ],
      "source": [
        "# printing the data file to check the text in it  \n",
        "with open(\"/content/gdrive/MyDrive/BarlowTwin_loss/loss.txt\", 'r') as file:\n",
        "    data = file.read().rstrip()\n",
        "loss_previous = ast.literal_eval(data)\n",
        "# loss_previous.extend(kk)\n",
        "plt.plot(loss_previous)"
      ],
      "id": "DbOmIYadrdfh"
    },
    {
      "cell_type": "code",
      "source": [
        "# # printing the data file to check the text in it\n",
        "# with open(\"/content/gdrive/MyDrive/BarlowTwin_loss/val_loss.txt\", 'r') as file:\n",
        "#     data = file.read().rstrip()\n",
        "\n",
        "# val_loss_previous = ast.literal_eval(data)\n",
        "# val_loss_previous.extend(kk_vl)\n",
        "# plt.plot(val_loss_previous)"
      ],
      "metadata": {
        "id": "ZwfPc14sbrVF"
      },
      "id": "ZwfPc14sbrVF",
      "execution_count": null,
      "outputs": []
    },
    {
      "cell_type": "code",
      "execution_count": null,
      "metadata": {
        "id": "TwQwTSnLmoU4"
      },
      "outputs": [],
      "source": [
        "# # dont run this part of the code unknowingly\n",
        "# # code snippet to delete the loss \n",
        "# f = open(\"/content/gdrive/MyDrive/BarlowTwin_loss/val_loss.txt\", \"r+\")\n",
        "# f.truncate(0)\n",
        "# f.close()\n",
        "\n",
        "# f = open(\"/content/gdrive/MyDrive/BarlowTwin_loss/loss.txt\", \"r+\")\n",
        "# f.truncate(0)\n",
        "# f.close()"
      ],
      "id": "TwQwTSnLmoU4"
    },
    {
      "cell_type": "code",
      "execution_count": null,
      "metadata": {
        "id": "kxIC-cZmmlUB"
      },
      "outputs": [],
      "source": [
        "# #save txt\n",
        "# file = open(\"/content/gdrive/MyDrive/BarlowTwin_loss/loss.txt\", \"w\") \n",
        "# str1 = repr(loss_previous)\n",
        "# file.write(str1)\n",
        "# file.close()\n",
        "# #save txt\n",
        "# file = open(\"/content/gdrive/MyDrive/BarlowTwin_loss/val_loss.txt\", \"w\") \n",
        "# str2 = repr(val_loss_previous)\n",
        "# file.write(str2)\n",
        "# file.close()"
      ],
      "id": "kxIC-cZmmlUB"
    },
    {
      "cell_type": "markdown",
      "metadata": {
        "id": "8bd09d4d"
      },
      "source": [
        "### Using the trained encoder for downstream tasks\n",
        "\n",
        "Once the encoder is pretrained on CIFAR10, we can use it to get image embeddings and use them further downstream on tasks like classification, detection, segmentation etc.\n",
        "\n",
        "\n",
        "To create this checkpoint, the encoder was pretrained for 1000 epochs."
      ],
      "id": "8bd09d4d"
    },
    {
      "cell_type": "code",
      "execution_count": null,
      "metadata": {
        "id": "eUEwrM5ti2Fi",
        "colab": {
          "base_uri": "https://localhost:8080/"
        },
        "outputId": "0b58bbf8-3d0d-47e2-cb6e-f4bf21b98fca"
      },
      "outputs": [
        {
          "output_type": "execute_result",
          "data": {
            "text/plain": [
              "_IncompatibleKeys(missing_keys=[], unexpected_keys=['online_finetuner.weight', 'online_finetuner.bias'])"
            ]
          },
          "metadata": {},
          "execution_count": 19
        }
      ],
      "source": [
        "# LOADING the model\n",
        "model_save_name = 'classifier1000.pt'\n",
        "path = F\"/content/gdrive/MyDrive/BarlowTwin_loss/{model_save_name}\"\n",
        "model.load_state_dict(torch.load(path), strict = False)"
      ],
      "id": "eUEwrM5ti2Fi"
    },
    {
      "cell_type": "markdown",
      "source": [
        "## Downstream Task\n",
        "Image Embeddings are stored and converted into dataset Classes For Classification Using a Linear layer"
      ],
      "metadata": {
        "id": "KB15b-rewG_T"
      },
      "id": "KB15b-rewG_T"
    },
    {
      "cell_type": "code",
      "execution_count": null,
      "metadata": {
        "id": "_Fr1oYDWFKgM"
      },
      "outputs": [],
      "source": [
        "test_embs=[]\n",
        "test_labels=[]\n",
        "for i,j in enumerate(test_loader1):\n",
        "  test_embs.extend(model(j[0][2]).detach().numpy())\n",
        "  test_labels.extend(j[1].detach().numpy())"
      ],
      "id": "_Fr1oYDWFKgM"
    },
    {
      "cell_type": "code",
      "execution_count": null,
      "metadata": {
        "id": "GTrjyLlko6rX"
      },
      "outputs": [],
      "source": [
        "train_embs=[]\n",
        "train_labels=[]\n",
        "for i,j in enumerate(train_loader):\n",
        "  train_embs.extend(model(j[0][2]).detach().numpy())\n",
        "  train_labels.extend(j[1].detach().numpy())"
      ],
      "id": "GTrjyLlko6rX"
    },
    {
      "cell_type": "code",
      "execution_count": null,
      "metadata": {
        "id": "p1iHRTRsPt4r"
      },
      "outputs": [],
      "source": [
        "valid_embs=[]\n",
        "valid_labels=[]\n",
        "for i,j in enumerate(val_loader):\n",
        "  valid_embs.extend(model(j[0][2]).detach().numpy())\n",
        "  valid_labels.extend(j[1].detach().numpy())"
      ],
      "id": "p1iHRTRsPt4r"
    },
    {
      "cell_type": "markdown",
      "source": [
        "## Defining Dataset Class"
      ],
      "metadata": {
        "id": "ulTVjMrnEtqA"
      },
      "id": "ulTVjMrnEtqA"
    },
    {
      "cell_type": "code",
      "execution_count": null,
      "metadata": {
        "id": "sfi2cKORzDHd"
      },
      "outputs": [],
      "source": [
        "class emb_set(Dataset):\n",
        "    def __init__(self, train_emb, train_labels, transform=None, target_transform=None):\n",
        "        self.embs=train_emb\n",
        "        self.img_labels = train_labels\n",
        "        self.transform = transform\n",
        "        self.target_transform = target_transform\n",
        "\n",
        "    def __len__(self):\n",
        "        return len(self.img_labels)\n",
        "\n",
        "    def __getitem__(self, idx):\n",
        "        image = self.embs[idx]\n",
        "        label = self.img_labels[idx]\n",
        "        if self.transform:\n",
        "            image = self.transform(image)\n",
        "        if self.target_transform:\n",
        "            label = self.target_transform(label)\n",
        "        return torch.tensor(image), torch.tensor(label)"
      ],
      "id": "sfi2cKORzDHd"
    },
    {
      "cell_type": "code",
      "execution_count": null,
      "metadata": {
        "id": "mK4NKVMC0YYi"
      },
      "outputs": [],
      "source": [
        "train_emb_dataset=emb_set(train_embs,train_labels)\n",
        "test_emb_dataset=emb_set(test_embs,test_labels)\n",
        "valid_emb_dataset= emb_set(valid_embs, valid_labels)"
      ],
      "id": "mK4NKVMC0YYi"
    },
    {
      "cell_type": "code",
      "execution_count": null,
      "metadata": {
        "id": "Vc1hoDlR1ROK"
      },
      "outputs": [],
      "source": [
        "train_emb_loader=DataLoader(train_emb_dataset, batch_size=64, shuffle=True)\n",
        "test_emb_loader=DataLoader(test_emb_dataset, batch_size=64, shuffle=True)\n",
        "valid_emb_loader=DataLoader(valid_emb_dataset, batch_size=64, shuffle=True)"
      ],
      "id": "Vc1hoDlR1ROK"
    },
    {
      "cell_type": "markdown",
      "source": [
        "### Defining the Model for Classification"
      ],
      "metadata": {
        "id": "I7nt_yuwxA7w"
      },
      "id": "I7nt_yuwxA7w"
    },
    {
      "cell_type": "code",
      "execution_count": null,
      "metadata": {
        "id": "9dkh_seCuOdd"
      },
      "outputs": [],
      "source": [
        "class log_reg(torch.nn.Module):\n",
        "      def __init__(self,inputSize,numClasses):\n",
        "        super().__init__()\n",
        "        self.linear = nn.Linear(inputSize, numClasses)\n",
        "      def forward(self, xb): \n",
        "        xb = xb.reshape(-1, 2048) \n",
        "        out = self.linear(xb)\n",
        "        return F.softmax(out)"
      ],
      "id": "9dkh_seCuOdd"
    },
    {
      "cell_type": "markdown",
      "source": [
        "#### Defining Hyper Parameters and Model"
      ],
      "metadata": {
        "id": "hySA-bp7E6q3"
      },
      "id": "hySA-bp7E6q3"
    },
    {
      "cell_type": "code",
      "execution_count": null,
      "metadata": {
        "id": "FSAqtde423UF"
      },
      "outputs": [],
      "source": [
        "batch_size = 64\n",
        "epochs = 1000\n",
        "input_dim = 2048\n",
        "output_dim = 10\n",
        "lr_rate = 0.1\n",
        "logr_model=log_reg(2048,10) # Defining Model\n",
        "criterion = torch.nn.CrossEntropyLoss() # computes softmax and then the cross entropy\n",
        "optimizer = torch.optim.SGD(logr_model.parameters(), lr=lr_rate)\n",
        "scheduler=lr_scheduler.CosineAnnealingWarmRestarts(optimizer, 20, 2)"
      ],
      "id": "FSAqtde423UF"
    },
    {
      "cell_type": "markdown",
      "source": [
        "#### Training"
      ],
      "metadata": {
        "id": "x_KDzzpyFArJ"
      },
      "id": "x_KDzzpyFArJ"
    },
    {
      "cell_type": "code",
      "execution_count": null,
      "metadata": {
        "id": "UzyJPUEj3HZU",
        "colab": {
          "base_uri": "https://localhost:8080/"
        },
        "outputId": "6948cd4f-e57b-4d83-d5f0-94dcaa5dbc61"
      },
      "outputs": [
        {
          "output_type": "stream",
          "name": "stdout",
          "text": [
            "Iteration: 500. Loss: 1.70. Accuracy: 64.17%. Macro Accuracy 61.31%.\n",
            "Iteration: 1000. Loss: 1.77. Accuracy: 66.15%. Macro Accuracy 65.72%.\n",
            "Iteration: 1500. Loss: 1.68. Accuracy: 67.81%. Macro Accuracy 67.74%.\n",
            "Iteration: 2000. Loss: 1.68. Accuracy: 67.71%. Macro Accuracy 67.58%.\n",
            "Iteration: 2500. Loss: 1.62. Accuracy: 68.02%. Macro Accuracy 68.24%.\n",
            "Iteration: 3000. Loss: 1.66. Accuracy: 67.40%. Macro Accuracy 67.56%.\n",
            "Iteration: 3500. Loss: 1.66. Accuracy: 67.29%. Macro Accuracy 67.03%.\n",
            "Iteration: 4000. Loss: 1.65. Accuracy: 68.33%. Macro Accuracy 68.17%.\n",
            "Iteration: 4500. Loss: 1.63. Accuracy: 67.81%. Macro Accuracy 67.66%.\n",
            "Iteration: 5000. Loss: 1.56. Accuracy: 67.92%. Macro Accuracy 67.75%.\n",
            "Iteration: 5500. Loss: 1.65. Accuracy: 67.40%. Macro Accuracy 67.60%.\n",
            "Iteration: 6000. Loss: 1.63. Accuracy: 67.50%. Macro Accuracy 67.44%.\n",
            "Iteration: 6500. Loss: 1.67. Accuracy: 68.23%. Macro Accuracy 68.24%.\n",
            "Iteration: 7000. Loss: 1.61. Accuracy: 67.92%. Macro Accuracy 67.89%.\n",
            "Iteration: 7500. Loss: 1.55. Accuracy: 67.81%. Macro Accuracy 67.74%.\n",
            "Iteration: 8000. Loss: 1.62. Accuracy: 68.02%. Macro Accuracy 67.81%.\n",
            "Iteration: 8500. Loss: 1.60. Accuracy: 69.06%. Macro Accuracy 68.91%.\n",
            "Iteration: 9000. Loss: 1.62. Accuracy: 68.85%. Macro Accuracy 68.73%.\n",
            "Iteration: 9500. Loss: 1.73. Accuracy: 68.54%. Macro Accuracy 68.49%.\n",
            "Iteration: 10000. Loss: 1.55. Accuracy: 68.33%. Macro Accuracy 68.37%.\n",
            "Iteration: 10500. Loss: 1.61. Accuracy: 67.92%. Macro Accuracy 67.80%.\n",
            "Iteration: 11000. Loss: 1.62. Accuracy: 68.65%. Macro Accuracy 68.57%.\n",
            "Iteration: 11500. Loss: 1.58. Accuracy: 68.54%. Macro Accuracy 68.53%.\n",
            "Iteration: 12000. Loss: 1.58. Accuracy: 68.33%. Macro Accuracy 68.39%.\n",
            "Iteration: 12500. Loss: 1.61. Accuracy: 68.44%. Macro Accuracy 68.44%.\n",
            "Iteration: 13000. Loss: 1.65. Accuracy: 68.02%. Macro Accuracy 67.92%.\n",
            "Iteration: 13500. Loss: 1.65. Accuracy: 67.92%. Macro Accuracy 67.87%.\n",
            "Iteration: 14000. Loss: 1.59. Accuracy: 68.12%. Macro Accuracy 68.00%.\n",
            "Iteration: 14500. Loss: 1.63. Accuracy: 67.81%. Macro Accuracy 67.75%.\n",
            "Iteration: 15000. Loss: 1.54. Accuracy: 67.60%. Macro Accuracy 67.45%.\n",
            "Iteration: 15500. Loss: 1.54. Accuracy: 68.12%. Macro Accuracy 68.12%.\n",
            "Iteration: 16000. Loss: 1.58. Accuracy: 67.50%. Macro Accuracy 67.47%.\n",
            "Iteration: 16500. Loss: 1.51. Accuracy: 67.71%. Macro Accuracy 67.67%.\n",
            "Iteration: 17000. Loss: 1.54. Accuracy: 67.60%. Macro Accuracy 67.49%.\n",
            "Iteration: 17500. Loss: 1.54. Accuracy: 67.71%. Macro Accuracy 67.62%.\n",
            "Iteration: 18000. Loss: 1.55. Accuracy: 67.50%. Macro Accuracy 67.36%.\n",
            "Iteration: 18500. Loss: 1.51. Accuracy: 67.50%. Macro Accuracy 67.39%.\n",
            "Iteration: 19000. Loss: 1.62. Accuracy: 67.40%. Macro Accuracy 67.35%.\n",
            "Iteration: 19500. Loss: 1.62. Accuracy: 66.77%. Macro Accuracy 66.58%.\n",
            "Iteration: 20000. Loss: 1.65. Accuracy: 66.77%. Macro Accuracy 66.66%.\n",
            "Iteration: 20500. Loss: 1.59. Accuracy: 67.08%. Macro Accuracy 67.03%.\n",
            "Iteration: 21000. Loss: 1.56. Accuracy: 66.98%. Macro Accuracy 66.84%.\n",
            "Iteration: 21500. Loss: 1.61. Accuracy: 66.88%. Macro Accuracy 66.86%.\n",
            "Iteration: 22000. Loss: 1.56. Accuracy: 66.88%. Macro Accuracy 66.79%.\n",
            "Iteration: 22500. Loss: 1.59. Accuracy: 67.08%. Macro Accuracy 67.10%.\n",
            "Iteration: 23000. Loss: 1.57. Accuracy: 67.50%. Macro Accuracy 67.44%.\n",
            "Iteration: 23500. Loss: 1.57. Accuracy: 67.08%. Macro Accuracy 67.04%.\n",
            "Iteration: 24000. Loss: 1.58. Accuracy: 67.71%. Macro Accuracy 67.69%.\n",
            "Iteration: 24500. Loss: 1.61. Accuracy: 67.29%. Macro Accuracy 67.31%.\n",
            "Iteration: 25000. Loss: 1.62. Accuracy: 67.50%. Macro Accuracy 67.44%.\n",
            "Iteration: 25500. Loss: 1.58. Accuracy: 67.50%. Macro Accuracy 67.52%.\n",
            "Iteration: 26000. Loss: 1.62. Accuracy: 67.19%. Macro Accuracy 67.11%.\n",
            "Iteration: 26500. Loss: 1.57. Accuracy: 67.50%. Macro Accuracy 67.49%.\n",
            "Iteration: 27000. Loss: 1.64. Accuracy: 67.19%. Macro Accuracy 67.12%.\n",
            "Iteration: 27500. Loss: 1.59. Accuracy: 67.40%. Macro Accuracy 67.35%.\n",
            "Iteration: 28000. Loss: 1.54. Accuracy: 67.08%. Macro Accuracy 66.95%.\n",
            "Iteration: 28500. Loss: 1.62. Accuracy: 67.60%. Macro Accuracy 67.56%.\n",
            "Iteration: 29000. Loss: 1.60. Accuracy: 67.29%. Macro Accuracy 67.24%.\n",
            "Iteration: 29500. Loss: 1.59. Accuracy: 67.71%. Macro Accuracy 67.73%.\n",
            "Iteration: 30000. Loss: 1.65. Accuracy: 67.40%. Macro Accuracy 67.38%.\n",
            "Iteration: 30500. Loss: 1.56. Accuracy: 67.60%. Macro Accuracy 67.65%.\n",
            "Iteration: 31000. Loss: 1.60. Accuracy: 67.40%. Macro Accuracy 67.39%.\n",
            "Iteration: 31500. Loss: 1.54. Accuracy: 67.50%. Macro Accuracy 67.42%.\n",
            "Iteration: 32000. Loss: 1.54. Accuracy: 67.92%. Macro Accuracy 67.79%.\n",
            "Iteration: 32500. Loss: 1.58. Accuracy: 68.02%. Macro Accuracy 68.03%.\n",
            "Iteration: 33000. Loss: 1.57. Accuracy: 67.60%. Macro Accuracy 67.59%.\n",
            "Iteration: 33500. Loss: 1.59. Accuracy: 67.50%. Macro Accuracy 67.52%.\n",
            "Iteration: 34000. Loss: 1.53. Accuracy: 67.50%. Macro Accuracy 67.51%.\n",
            "Iteration: 34500. Loss: 1.62. Accuracy: 67.50%. Macro Accuracy 67.44%.\n",
            "Iteration: 35000. Loss: 1.54. Accuracy: 67.71%. Macro Accuracy 67.64%.\n",
            "Iteration: 35500. Loss: 1.59. Accuracy: 67.71%. Macro Accuracy 67.67%.\n",
            "Iteration: 36000. Loss: 1.60. Accuracy: 67.81%. Macro Accuracy 67.76%.\n",
            "Iteration: 36500. Loss: 1.56. Accuracy: 67.92%. Macro Accuracy 67.89%.\n",
            "Iteration: 37000. Loss: 1.57. Accuracy: 67.71%. Macro Accuracy 67.68%.\n",
            "Iteration: 37500. Loss: 1.56. Accuracy: 67.29%. Macro Accuracy 67.30%.\n",
            "Iteration: 38000. Loss: 1.59. Accuracy: 67.40%. Macro Accuracy 67.31%.\n",
            "Iteration: 38500. Loss: 1.57. Accuracy: 67.40%. Macro Accuracy 67.40%.\n",
            "Iteration: 39000. Loss: 1.51. Accuracy: 67.29%. Macro Accuracy 67.28%.\n",
            "Iteration: 39500. Loss: 1.62. Accuracy: 67.40%. Macro Accuracy 67.39%.\n",
            "Iteration: 40000. Loss: 1.59. Accuracy: 67.19%. Macro Accuracy 67.06%.\n",
            "Iteration: 40500. Loss: 1.60. Accuracy: 66.98%. Macro Accuracy 67.00%.\n",
            "Iteration: 41000. Loss: 1.49. Accuracy: 67.29%. Macro Accuracy 67.32%.\n",
            "Iteration: 41500. Loss: 1.51. Accuracy: 66.88%. Macro Accuracy 66.84%.\n",
            "Iteration: 42000. Loss: 1.56. Accuracy: 67.08%. Macro Accuracy 67.08%.\n",
            "Iteration: 42500. Loss: 1.54. Accuracy: 66.98%. Macro Accuracy 66.92%.\n",
            "Iteration: 43000. Loss: 1.56. Accuracy: 67.08%. Macro Accuracy 67.03%.\n",
            "Iteration: 43500. Loss: 1.60. Accuracy: 66.77%. Macro Accuracy 66.71%.\n",
            "Iteration: 44000. Loss: 1.56. Accuracy: 66.98%. Macro Accuracy 66.92%.\n",
            "Iteration: 44500. Loss: 1.63. Accuracy: 66.88%. Macro Accuracy 66.85%.\n",
            "Iteration: 45000. Loss: 1.60. Accuracy: 67.19%. Macro Accuracy 67.10%.\n",
            "Iteration: 45500. Loss: 1.56. Accuracy: 66.77%. Macro Accuracy 66.70%.\n",
            "Iteration: 46000. Loss: 1.60. Accuracy: 66.77%. Macro Accuracy 66.71%.\n",
            "Iteration: 46500. Loss: 1.52. Accuracy: 67.08%. Macro Accuracy 67.10%.\n",
            "Iteration: 47000. Loss: 1.60. Accuracy: 66.67%. Macro Accuracy 66.67%.\n",
            "Iteration: 47500. Loss: 1.60. Accuracy: 67.08%. Macro Accuracy 67.07%.\n",
            "Iteration: 48000. Loss: 1.63. Accuracy: 66.88%. Macro Accuracy 66.85%.\n",
            "Iteration: 48500. Loss: 1.59. Accuracy: 66.88%. Macro Accuracy 66.83%.\n",
            "Iteration: 49000. Loss: 1.63. Accuracy: 66.88%. Macro Accuracy 66.85%.\n",
            "Iteration: 49500. Loss: 1.57. Accuracy: 66.88%. Macro Accuracy 66.85%.\n",
            "Iteration: 50000. Loss: 1.53. Accuracy: 66.88%. Macro Accuracy 66.85%.\n",
            "Iteration: 50500. Loss: 1.54. Accuracy: 66.88%. Macro Accuracy 66.88%.\n",
            "Iteration: 51000. Loss: 1.53. Accuracy: 66.88%. Macro Accuracy 66.86%.\n",
            "Iteration: 51500. Loss: 1.60. Accuracy: 66.88%. Macro Accuracy 66.88%.\n",
            "Iteration: 52000. Loss: 1.49. Accuracy: 66.88%. Macro Accuracy 66.82%.\n",
            "Iteration: 52500. Loss: 1.56. Accuracy: 66.77%. Macro Accuracy 66.74%.\n",
            "Iteration: 53000. Loss: 1.59. Accuracy: 66.88%. Macro Accuracy 66.82%.\n",
            "Iteration: 53500. Loss: 1.53. Accuracy: 66.88%. Macro Accuracy 66.88%.\n",
            "Iteration: 54000. Loss: 1.65. Accuracy: 66.98%. Macro Accuracy 66.95%.\n",
            "Iteration: 54500. Loss: 1.57. Accuracy: 66.88%. Macro Accuracy 66.87%.\n",
            "Iteration: 55000. Loss: 1.56. Accuracy: 66.88%. Macro Accuracy 66.89%.\n",
            "Iteration: 55500. Loss: 1.63. Accuracy: 66.98%. Macro Accuracy 66.95%.\n",
            "Iteration: 56000. Loss: 1.56. Accuracy: 66.88%. Macro Accuracy 66.83%.\n",
            "Iteration: 56500. Loss: 1.62. Accuracy: 66.98%. Macro Accuracy 66.95%.\n",
            "Iteration: 57000. Loss: 1.56. Accuracy: 66.98%. Macro Accuracy 66.93%.\n",
            "Iteration: 57500. Loss: 1.53. Accuracy: 67.19%. Macro Accuracy 67.15%.\n",
            "Iteration: 58000. Loss: 1.59. Accuracy: 66.88%. Macro Accuracy 66.88%.\n",
            "Iteration: 58500. Loss: 1.57. Accuracy: 67.08%. Macro Accuracy 67.08%.\n",
            "Iteration: 59000. Loss: 1.57. Accuracy: 66.88%. Macro Accuracy 66.88%.\n",
            "Iteration: 59500. Loss: 1.54. Accuracy: 66.98%. Macro Accuracy 66.95%.\n",
            "Iteration: 60000. Loss: 1.54. Accuracy: 67.08%. Macro Accuracy 67.04%.\n",
            "Iteration: 60500. Loss: 1.57. Accuracy: 66.98%. Macro Accuracy 66.95%.\n",
            "Iteration: 61000. Loss: 1.59. Accuracy: 66.77%. Macro Accuracy 66.77%.\n",
            "Iteration: 61500. Loss: 1.63. Accuracy: 66.98%. Macro Accuracy 66.94%.\n",
            "Iteration: 62000. Loss: 1.62. Accuracy: 66.88%. Macro Accuracy 66.85%.\n"
          ]
        }
      ],
      "source": [
        "iter = 0\n",
        "loss_lin_tr = []\n",
        "mac_acc = []\n",
        "acc = []\n",
        "for epoch in range(int(epochs)):\n",
        "    for i, (images, labels) in enumerate(train_emb_loader):\n",
        "        images = Variable(images.view(-1, 2048))\n",
        "        labels = Variable(labels)\n",
        "\n",
        "        optimizer.zero_grad()\n",
        "        outputs = logr_model(images)\n",
        "        loss = criterion(outputs, labels)\n",
        "        loss_lin_tr.append(loss)\n",
        "        loss.backward()\n",
        "        optimizer.step()\n",
        "\n",
        "        iter+=1\n",
        "        if iter%500==0:\n",
        "            # calculate Accuracy\n",
        "            correct = 0\n",
        "            total = 0\n",
        "            predicts = torch.Tensor([])\n",
        "            actuals = torch.Tensor([])\n",
        "            for i, (images, labels) in enumerate(valid_emb_loader):\n",
        "                images = Variable(images.view(-1, 2048))\n",
        "                outputs = logr_model(images)\n",
        "                _, predicted = torch.max(outputs.data, 1)\n",
        "                predicts = torch.cat((predicts,predicted))\n",
        "                actuals = torch.cat((actuals,labels))\n",
        "                total+= labels.size(0)\n",
        "                # for gpu, bring the predicted and labels back to cpu fro python operations to work\n",
        "                correct+= (predicted == labels).sum()\n",
        "            accuracy = 100 * correct/total\n",
        "            macro_acc = 100* f1_score(predicts , actuals , average = \"macro\")\n",
        "            mac_acc.appened(macro_acc)\n",
        "    \n",
        "            print(\"Iteration: %d. Loss: %.2f. Accuracy: %.2f%%. Macro Accuracy %.2f%%.\"% (iter, loss.item(), accuracy , macro_acc))\n",
        "    scheduler.step(20)"
      ],
      "id": "UzyJPUEj3HZU"
    },
    {
      "cell_type": "markdown",
      "source": [
        "#### Testing"
      ],
      "metadata": {
        "id": "UkeA6fxLxsYv"
      },
      "id": "UkeA6fxLxsYv"
    },
    {
      "cell_type": "code",
      "execution_count": null,
      "metadata": {
        "id": "1_K8UKeLl8_J",
        "colab": {
          "base_uri": "https://localhost:8080/"
        },
        "outputId": "a26f6085-9460-44f9-b46e-8df0970d1037"
      },
      "outputs": [
        {
          "output_type": "stream",
          "name": "stdout",
          "text": [
            "Testing Accuracy: 66.44%.Macro Accuracy 66.31%.\n"
          ]
        }
      ],
      "source": [
        "correct = 0\n",
        "total = 0\n",
        "predicts = torch.Tensor([])\n",
        "actuals = torch.Tensor([])\n",
        "for i, (images, labels) in enumerate(test_emb_loader):\n",
        "    images = Variable(images.view(-1, 2048))\n",
        "    outputs = logr_model(images)\n",
        "    _, predicted = torch.max(outputs.data, 1)\n",
        "    total+= labels.size(0)\n",
        "    predicts = torch.cat((predicts,predicted))\n",
        "    actuals = torch.cat((actuals,labels))\n",
        "    # for gpu, bring the predicted and labels back to cpu fro python operations to work\n",
        "    correct+= (predicted == labels).sum()\n",
        "accuracy = 100 * correct/total\n",
        "macro_acc = 100*f1_score(predicts , actuals , average = \"macro\")\n",
        "print(\"Testing Accuracy: %.2f%%.Macro Accuracy %.2f%%.\"% (accuracy,macro_acc))"
      ],
      "id": "1_K8UKeLl8_J"
    },
    {
      "cell_type": "markdown",
      "source": [
        "### Loss Propagation"
      ],
      "metadata": {
        "id": "uQHcaJT5FRF7"
      },
      "id": "uQHcaJT5FRF7"
    },
    {
      "cell_type": "code",
      "source": [
        "losses = [i.item() for i in loss_lin_tr]\n",
        "# Calculating Training Loss\n",
        "final_loss = []\n",
        "iter = int(len(losses)/epochs)\n",
        "for i in range(epochs):\n",
        "  start = i*iter\n",
        "  end = (i+1)*iter\n",
        "  final_loss.append(sum(losses[start : end])/iter)\n",
        "\n",
        "plt.plot(final_loss)"
      ],
      "metadata": {
        "colab": {
          "base_uri": "https://localhost:8080/",
          "height": 283
        },
        "id": "uBAjwAP_FQH0",
        "outputId": "c3c5b36e-1bd0-4932-9843-22fa6463f410"
      },
      "id": "uBAjwAP_FQH0",
      "execution_count": null,
      "outputs": [
        {
          "output_type": "execute_result",
          "data": {
            "text/plain": [
              "[<matplotlib.lines.Line2D at 0x7f11520f9610>]"
            ]
          },
          "metadata": {},
          "execution_count": 117
        },
        {
          "output_type": "display_data",
          "data": {
            "text/plain": [
              "<Figure size 432x288 with 1 Axes>"
            ],
            "image/png": "[encoded data removed]"
          },
          "metadata": {
            "needs_background": "light"
          }
        }
      ]
    },
    {
      "cell_type": "markdown",
      "metadata": {
        "id": "86kK8Vgf7LRj"
      },
      "source": [
        "---\n",
        "Supervised Classification\n",
        "\n",
        "Resnet 50 \n",
        "\n",
        "---\n",
        "\n",
        "\n"
      ],
      "id": "86kK8Vgf7LRj"
    },
    {
      "cell_type": "code",
      "source": [
        "import torch\n",
        "import torch.nn as nn\n",
        "import torch.nn.functional as F\n",
        "import torch.optim as optim"
      ],
      "metadata": {
        "id": "EyVg6WrKGBmk"
      },
      "id": "EyVg6WrKGBmk",
      "execution_count": 10,
      "outputs": []
    },
    {
      "cell_type": "markdown",
      "source": [
        "### Defining the network"
      ],
      "metadata": {
        "id": "jx4ZVbL_GCtk"
      },
      "id": "jx4ZVbL_GCtk"
    },
    {
      "cell_type": "code",
      "execution_count": 11,
      "metadata": {
        "id": "UprYYk-tmOIW"
      },
      "outputs": [],
      "source": [
        "class BasicBlock(nn.Module):\n",
        "    expansion = 1\n",
        "\n",
        "    def __init__(self, in_planes, planes, stride=1):\n",
        "        super(BasicBlock, self).__init__()\n",
        "        self.conv1 = nn.Conv2d(in_planes, planes, kernel_size=3, stride=stride, padding=1, bias=False)\n",
        "        self.bn1 = nn.BatchNorm2d(planes)\n",
        "        self.conv2 = nn.Conv2d(planes, planes, kernel_size=3, stride=1, padding=1, bias=False)\n",
        "        self.bn2 = nn.BatchNorm2d(planes)\n",
        "\n",
        "        self.shortcut = nn.Sequential()\n",
        "        if stride != 1 or in_planes != self.expansion*planes:\n",
        "            self.shortcut = nn.Sequential(\n",
        "                nn.Conv2d(in_planes, self.expansion*planes, kernel_size=1, stride=stride, bias=False),\n",
        "                nn.BatchNorm2d(self.expansion*planes)\n",
        "            )\n",
        "\n",
        "    def forward(self, x):\n",
        "        out = F.relu(self.bn1(self.conv1(x)))\n",
        "        out = self.bn2(self.conv2(out))\n",
        "        out += self.shortcut(x)\n",
        "        out = F.relu(out)\n",
        "        return out\n",
        "\n",
        "\n",
        "class Bottleneck(nn.Module):\n",
        "    expansion = 4\n",
        "\n",
        "    def __init__(self, in_planes, planes, stride=1):\n",
        "        super(Bottleneck, self).__init__()\n",
        "        self.conv1 = nn.Conv2d(in_planes, planes, kernel_size=1, bias=False)\n",
        "        self.bn1 = nn.BatchNorm2d(planes)\n",
        "        self.conv2 = nn.Conv2d(planes, planes, kernel_size=3, stride=stride, padding=1, bias=False)\n",
        "        self.bn2 = nn.BatchNorm2d(planes)\n",
        "        self.conv3 = nn.Conv2d(planes, self.expansion*planes, kernel_size=1, bias=False)\n",
        "        self.bn3 = nn.BatchNorm2d(self.expansion*planes)\n",
        "\n",
        "        self.shortcut = nn.Sequential()\n",
        "        if stride != 1 or in_planes != self.expansion*planes:\n",
        "            self.shortcut = nn.Sequential(\n",
        "                nn.Conv2d(in_planes, self.expansion*planes, kernel_size=1, stride=stride, bias=False),\n",
        "                nn.BatchNorm2d(self.expansion*planes)\n",
        "            )\n",
        "\n",
        "    def forward(self, x):\n",
        "        out = F.relu(self.bn1(self.conv1(x)))\n",
        "        out = F.relu(self.bn2(self.conv2(out)))\n",
        "        out = self.bn3(self.conv3(out))\n",
        "        out += self.shortcut(x)\n",
        "        out = F.relu(out)\n",
        "        return out\n",
        "\n",
        "\n",
        "class ResNet(nn.Module):\n",
        "    def __init__(self, block, num_blocks, num_classes=10):\n",
        "        super(ResNet, self).__init__()\n",
        "        self.in_planes = 64\n",
        "\n",
        "        self.conv1 = nn.Conv2d(3, 64, kernel_size=3, stride=1, padding=1, bias=False)\n",
        "        self.bn1 = nn.BatchNorm2d(64)\n",
        "        self.layer1 = self._make_layer(block, 64, num_blocks[0], stride=1)\n",
        "        self.layer2 = self._make_layer(block, 128, num_blocks[1], stride=2)\n",
        "        self.layer3 = self._make_layer(block, 256, num_blocks[2], stride=2)\n",
        "        self.layer4 = self._make_layer(block, 512, num_blocks[3], stride=2)\n",
        "        self.linear = nn.Linear(512*block.expansion, num_classes)\n",
        "\n",
        "    def _make_layer(self, block, planes, num_blocks, stride):\n",
        "        strides = [stride] + [1]*(num_blocks-1)\n",
        "        layers = []\n",
        "        for stride in strides:\n",
        "            layers.append(block(self.in_planes, planes, stride))\n",
        "            self.in_planes = planes * block.expansion\n",
        "        return nn.Sequential(*layers)\n",
        "\n",
        "    def forward(self, x):\n",
        "        out = F.relu(self.bn1(self.conv1(x)))\n",
        "        out = self.layer1(out)\n",
        "        out = self.layer2(out)\n",
        "        out = self.layer3(out)\n",
        "        out = self.layer4(out)\n",
        "        out = F.avg_pool2d(out, 4)\n",
        "        out = out.view(out.size(0), -1)\n",
        "        out = self.linear(out)\n",
        "        return out\n",
        "\n",
        "\n",
        "def ResNet18():\n",
        "    return ResNet(BasicBlock, [2,2,2,2])\n",
        "\n",
        "def ResNet34():\n",
        "    return ResNet(BasicBlock, [3,4,6,3])\n",
        "\n",
        "def ResNet50():\n",
        "    return ResNet(Bottleneck, [3,4,6,3])\n",
        "\n",
        "\n",
        "def ResNet101():\n",
        "    return ResNet(Bottleneck, [3,4,23,3])\n",
        "\n",
        "def ResNet152():\n",
        "    return ResNet(Bottleneck, [3,8,36,3])"
      ],
      "id": "UprYYk-tmOIW"
    },
    {
      "cell_type": "markdown",
      "source": [
        "### Transforming the Dataset for Resnet"
      ],
      "metadata": {
        "id": "4WcILK8GxygC"
      },
      "id": "4WcILK8GxygC"
    },
    {
      "cell_type": "code",
      "source": [
        "class trainTransformA:\n",
        "    def __init__(self, train=True, input_height=224, gaussian_blur=True, jitter_strength=1.0, normalize=None):\n",
        "\n",
        "        self.input_height = input_height\n",
        "        self.gaussian_blur = gaussian_blur\n",
        "        self.jitter_strength = jitter_strength\n",
        "        self.normalize = normalize\n",
        "        self.train = train\n",
        "\n",
        "        color_jitter = transforms.ColorJitter(\n",
        "            0.8 * self.jitter_strength,\n",
        "            0.8 * self.jitter_strength,\n",
        "            0.8 * self.jitter_strength,\n",
        "            0.2 * self.jitter_strength,\n",
        "        )\n",
        "\n",
        "        color_transform = [transforms.RandomApply([color_jitter], p=0.8), transforms.RandomGrayscale(p=0.2)]\n",
        "\n",
        "        if self.gaussian_blur:\n",
        "            kernel_size = int(0.1 * self.input_height)\n",
        "            if kernel_size % 2 == 0:\n",
        "                kernel_size += 1\n",
        "\n",
        "            color_transform.append(transforms.RandomApply([transforms.GaussianBlur(kernel_size=kernel_size)], p=0.5))\n",
        "\n",
        "        self.color_transform = transforms.Compose(color_transform)\n",
        "\n",
        "        if normalize is None:\n",
        "            self.final_transform = transforms.ToTensor()\n",
        "        else:\n",
        "            self.final_transform = transforms.Compose([transforms.ToTensor(), normalize])\n",
        "\n",
        "        self.transform = transforms.Compose(\n",
        "            [\n",
        "                transforms.RandomResizedCrop(self.input_height),\n",
        "                transforms.RandomHorizontalFlip(p=0.5),\n",
        "                self.color_transform,\n",
        "                self.final_transform,\n",
        "            ]\n",
        "        )\n",
        "\n",
        "        self.finetune_transform = None\n",
        "        if self.train:\n",
        "            self.finetune_transform = transforms.Compose(\n",
        "                [\n",
        "                    transforms.RandomCrop(32, padding=4, padding_mode=\"reflect\"),\n",
        "                    transforms.RandomHorizontalFlip(),\n",
        "                    transforms.ToTensor(),\n",
        "                ]\n",
        "            )\n",
        "        else:\n",
        "            self.finetune_transform = transforms.ToTensor()\n",
        "\n",
        "    def __call__(self, sample):\n",
        "        return self.finetune_transform(sample)"
      ],
      "metadata": {
        "id": "6gML3tyJhht2"
      },
      "id": "6gML3tyJhht2",
      "execution_count": 12,
      "outputs": []
    },
    {
      "cell_type": "code",
      "execution_count": 13,
      "metadata": {
        "id": "HIyGyFhTAsuo"
      },
      "outputs": [],
      "source": [
        "class trainTransform:\n",
        "    def __init__(self, input_height=224, normalize=None):\n",
        "\n",
        "        self.input_height = input_height\n",
        "        self.normalize = normalize\n",
        "\n",
        "        if normalize is None:\n",
        "            self.final_transform = transforms.ToTensor()\n",
        "        else:\n",
        "            self.final_transform = transforms.Compose([transforms.ToTensor(), normalize])\n",
        "\n",
        "        self.transform = transforms.Compose(\n",
        "            [\n",
        "                self.final_transform\n",
        "            ]\n",
        "        )\n",
        "\n",
        "\n",
        "    def __call__(self, sample):\n",
        "        return self.transform(sample)\n",
        "\n",
        "\n",
        "def cifar10_normalization():\n",
        "    normalize = transforms.Normalize(\n",
        "        mean=[x / 255.0 for x in [125.3, 123.0, 113.9]], std=[x / 255.0 for x in [63.0, 62.1, 66.7]]\n",
        "    )\n",
        "    return normalize"
      ],
      "id": "HIyGyFhTAsuo"
    },
    {
      "cell_type": "markdown",
      "source": [
        "## Augmented Dataset"
      ],
      "metadata": {
        "id": "dA1rYFX6kU9X"
      },
      "id": "dA1rYFX6kU9X"
    },
    {
      "cell_type": "code",
      "source": [
        "batch_size = 64\n",
        "\n",
        "train_transform = trainTransformA(\n",
        "    train=True, input_height=32, gaussian_blur=False, jitter_strength=False, normalize=cifar10_normalization()\n",
        ")\n",
        "\n",
        "train_dataseta = CIFAR10(root=\".\", train=True, download=True, transform=train_transform)\n",
        "\n",
        "train_set_size = 40000\n",
        "valid_set_size = 10000\n",
        "train_dataset, valid_dataset = data_utils.random_split(train_dataseta, [train_set_size, valid_set_size],generator = torch.Generator().manual_seed(2022))\n",
        "\n",
        "\n",
        "test_transform = trainTransformA(\n",
        "    train=False, input_height=32, gaussian_blur=False, jitter_strength=False, normalize= None\n",
        ")\n",
        "\n",
        "test_dataset = CIFAR10(root=\".\", train=False, download=True, transform = test_transform)\n",
        "\n",
        "test_loader2 = DataLoader(test_dataset, batch_size=batch_size, shuffle=False, num_workers=num_workers, drop_last=True)"
      ],
      "metadata": {
        "colab": {
          "base_uri": "https://localhost:8080/"
        },
        "id": "FmXXtZ9hip5W",
        "outputId": "e954690b-18d8-43bf-dba1-a7855ab689f7"
      },
      "id": "FmXXtZ9hip5W",
      "execution_count": 14,
      "outputs": [
        {
          "output_type": "stream",
          "name": "stdout",
          "text": [
            "Files already downloaded and verified\n",
            "Files already downloaded and verified\n"
          ]
        }
      ]
    },
    {
      "cell_type": "code",
      "source": [
        "train_datasetf2 = data_utils.Subset(train_dataset , indices_train)\n",
        "valid_datasetf2 = data_utils.Subset(valid_dataset , indices_val)\n",
        "\n",
        "train_loaderR = DataLoader(train_datasetf2, batch_size=batch_size, shuffle=True, num_workers=num_workers, drop_last=True, )\n",
        "val_loaderR = DataLoader(valid_datasetf2, batch_size=batch_size, shuffle=False, num_workers=num_workers, drop_last=True)"
      ],
      "metadata": {
        "id": "ZDp3iAKOj5Oe"
      },
      "id": "ZDp3iAKOj5Oe",
      "execution_count": 15,
      "outputs": []
    },
    {
      "cell_type": "markdown",
      "source": [
        "## Not Augmented Data"
      ],
      "metadata": {
        "id": "5RtFZ6CPkPo0"
      },
      "id": "5RtFZ6CPkPo0"
    },
    {
      "cell_type": "code",
      "execution_count": 14,
      "metadata": {
        "id": "QEFYkqLcA6IZ",
        "colab": {
          "base_uri": "https://localhost:8080/"
        },
        "outputId": "7abe0fb7-fb80-42a8-fd10-7c9aa58034c3"
      },
      "outputs": [
        {
          "output_type": "stream",
          "name": "stdout",
          "text": [
            "Files already downloaded and verified\n",
            "Files already downloaded and verified\n"
          ]
        }
      ],
      "source": [
        "batch_size = 64\n",
        "\n",
        "train_transform = trainTransform(\n",
        "    input_height=32, normalize=cifar10_normalization()\n",
        ")\n",
        "\n",
        "train_dataset = CIFAR10(root=\".\", train=True, download=True, transform=train_transform)\n",
        "\n",
        "train_set_size = 40000\n",
        "valid_set_size = 10000\n",
        "train_dataset, valid_dataset = data_utils.random_split(train_dataset, [train_set_size, valid_set_size],generator = torch.Generator().manual_seed(2022))\n",
        "\n",
        "\n",
        "test_transform = trainTransform(\n",
        "    input_height=32, normalize= None\n",
        ")\n",
        "\n",
        "test_dataset = CIFAR10(root=\".\", train=False, download=True, transform = test_transform)\n",
        "\n",
        "test_loader1 = DataLoader(test_dataset, batch_size=batch_size, shuffle=False, num_workers=num_workers, drop_last=True)"
      ],
      "id": "QEFYkqLcA6IZ"
    },
    {
      "cell_type": "code",
      "execution_count": 15,
      "metadata": {
        "id": "-u-d6BqPBavh"
      },
      "outputs": [],
      "source": [
        "train_datasetf1 = data_utils.Subset(train_dataset , indices_train)\n",
        "valid_datasetf1 = data_utils.Subset(valid_dataset , indices_val)\n",
        "\n",
        "train_loaderR = DataLoader(train_datasetf1, batch_size=batch_size, shuffle=True, num_workers=num_workers, drop_last=True, )\n",
        "val_loaderR = DataLoader(valid_datasetf1, batch_size=batch_size, shuffle=False, num_workers=num_workers, drop_last=True)"
      ],
      "id": "-u-d6BqPBavh"
    },
    {
      "cell_type": "code",
      "execution_count": 16,
      "metadata": {
        "colab": {
          "base_uri": "https://localhost:8080/"
        },
        "id": "-RF9G8BpmOjG",
        "outputId": "394dfffa-38af-4fa7-a8a5-feb517775b42"
      },
      "outputs": [
        {
          "output_type": "stream",
          "name": "stdout",
          "text": [
            "==> Building model..\n"
          ]
        }
      ],
      "source": [
        "import os\n",
        "\n",
        "print('==> Building model..')\n",
        "device = torch.device(\"cuda:0\" if torch.cuda.is_available() else \"cpu\")\n",
        "net = ResNet50()\n",
        "net = net.to(device)\n"
      ],
      "id": "-RF9G8BpmOjG"
    },
    {
      "cell_type": "code",
      "execution_count": 17,
      "metadata": {
        "id": "6kAd9n84JCB0"
      },
      "outputs": [],
      "source": [
        "criterion = nn.CrossEntropyLoss()\n",
        "optimizer = optim.SGD(net.parameters(), lr=0.001, momentum=0.9, weight_decay=5e-4)"
      ],
      "id": "6kAd9n84JCB0"
    },
    {
      "cell_type": "code",
      "execution_count": 18,
      "metadata": {
        "id": "ZIBapr-LKHRk"
      },
      "outputs": [],
      "source": [
        "train_acc = []\n",
        "val_acc = []\n",
        "best_acc = 0.0\n",
        "# Training\n",
        "def train(epoch):\n",
        "    print('\\nEpoch: %d' % epoch)\n",
        "    net.train()\n",
        "    train_loss = 0\n",
        "    correct = 0\n",
        "    total = 0\n",
        "    loss_train = []\n",
        "    actuals = torch.Tensor([]).to(\"cuda:0\")\n",
        "    predicts = torch.Tensor([]).to(\"cuda:0\")\n",
        "    for batch_idx, (inputs, targets) in enumerate(train_loaderR):\n",
        "        inputs, targets = inputs.to(device), targets.to(device)\n",
        "        optimizer.zero_grad()\n",
        "        outputs = net(inputs)\n",
        "        loss = criterion(outputs, targets)\n",
        "        loss_train.append(loss)\n",
        "        loss.backward()\n",
        "        optimizer.step()\n",
        "\n",
        "        train_loss += loss.item()\n",
        "        _, predicted = outputs.max(1)\n",
        "        predicts = torch.cat((predicts,predicted))\n",
        "        actuals = torch.cat((actuals,targets))\n",
        "\n",
        "        total += targets.size(0)\n",
        "        correct += predicted.eq(targets).sum().item()\n",
        "        # if batch_idx % 20 == 19:\n",
        "        #     print('[%d/%d] Loss: %.3f | Acc: %.3f%% (%d/%d)'% (batch_idx, len(train_loader), train_loss/(batch_idx+1), 100.*correct/total, correct, total))\n",
        "    ll = [i.item() for i in loss_train]\n",
        "    loss = sum(ll)/(batch_idx + 1)\n",
        "\n",
        "    accuracy = 100*f1_score(predicts.cpu() , actuals.cpu() , average = \"micro\")\n",
        "    macro_acc = 100*f1_score(predicts.cpu() , actuals.cpu() , average = \"macro\")\n",
        "    print(\"Training \\nLoss: %.2f .\\nAccuracy: %.2f%%.\\nMacro Accuracy %.2f%%.\\n\"% (loss ,accuracy,macro_acc))\n",
        "    return accuracy , loss\n",
        "\n",
        "def validation(epoch):\n",
        "    global best_acc\n",
        "    net.eval()\n",
        "    test_loss = 0\n",
        "    correct = 0\n",
        "    total = 0\n",
        "    predicts = torch.Tensor([]).to(\"cuda:0\")\n",
        "    actuals = torch.Tensor([]).to(\"cuda:0\")\n",
        "    with torch.no_grad():\n",
        "        for batch_idx, (inputs, targets) in enumerate(val_loaderR):\n",
        "            inputs, targets = inputs.to(device), targets.to(device)\n",
        "            outputs = net(inputs)\n",
        "            loss = criterion(outputs, targets)\n",
        "            test_loss += loss.item()\n",
        "            _, predicted = outputs.max(1)\n",
        "            total += targets.size(0)\n",
        "            predicts = torch.cat((predicts,predicted))\n",
        "            actuals = torch.cat((actuals,targets))\n",
        "\n",
        "            correct += predicted.eq(targets).sum().item()\n",
        "    acc = 100*f1_score(actuals.cpu(),predicts.cpu() , average = \"micro\")\n",
        "    macro_acc = 100*f1_score(actuals.cpu(),predicts.cpu() , average = \"macro\")\n",
        "    print(\"Validation \\nAccuracy %.2f%%.\\nMacro Accuracy %.2f%%.\"% (acc,macro_acc))\n",
        "    # Save checkpoint.\n",
        "    acc = 100.*correct/total\n",
        "    if acc > best_acc:\n",
        "        print('Saving..')\n",
        "        state = {\n",
        "            'net': net.state_dict(),\n",
        "            'acc': acc,\n",
        "            'epoch': epoch,\n",
        "        }\n",
        "        if not os.path.isdir('checkpoint'):\n",
        "            os.mkdir('checkpoint')\n",
        "        torch.save(state, './checkpoint/ckpt.pth')\n",
        "        best_acc = acc\n",
        "    return acc"
      ],
      "id": "ZIBapr-LKHRk"
    },
    {
      "cell_type": "code",
      "execution_count": 19,
      "metadata": {
        "colab": {
          "base_uri": "https://localhost:8080/",
          "height": 1000
        },
        "id": "0BYR4UpJKKfL",
        "outputId": "d3715909-8672-48e0-db52-622f5072e78f"
      },
      "outputs": [
        {
          "output_type": "stream",
          "name": "stdout",
          "text": [
            "\n",
            "Epoch: 0\n",
            "Training \n",
            "Loss: 2.14 .\n",
            "Accuracy: 20.88%.\n",
            "Macro Accuracy 20.49%.\n",
            "\n",
            "Validation \n",
            "Accuracy 29.69%.\n",
            "Macro Accuracy 26.99%.\n",
            "Saving..\n",
            "\n",
            "Epoch: 1\n",
            "Training \n",
            "Loss: 1.80 .\n",
            "Accuracy: 32.06%.\n",
            "Macro Accuracy 31.68%.\n",
            "\n",
            "Validation \n",
            "Accuracy 37.05%.\n",
            "Macro Accuracy 33.68%.\n",
            "Saving..\n",
            "\n",
            "Epoch: 2\n",
            "Training \n",
            "Loss: 1.60 .\n",
            "Accuracy: 41.02%.\n",
            "Macro Accuracy 40.61%.\n",
            "\n",
            "Validation \n",
            "Accuracy 40.02%.\n",
            "Macro Accuracy 38.31%.\n",
            "Saving..\n",
            "\n",
            "Epoch: 3\n",
            "Training \n",
            "Loss: 1.45 .\n",
            "Accuracy: 47.14%.\n",
            "Macro Accuracy 46.76%.\n",
            "\n",
            "Validation \n",
            "Accuracy 44.30%.\n",
            "Macro Accuracy 44.33%.\n",
            "Saving..\n",
            "\n",
            "Epoch: 4\n",
            "Training \n",
            "Loss: 1.33 .\n",
            "Accuracy: 52.24%.\n",
            "Macro Accuracy 51.98%.\n",
            "\n",
            "Validation \n",
            "Accuracy 45.26%.\n",
            "Macro Accuracy 44.68%.\n",
            "Saving..\n",
            "\n",
            "Epoch: 5\n",
            "Training \n",
            "Loss: 1.16 .\n",
            "Accuracy: 58.36%.\n",
            "Macro Accuracy 58.15%.\n",
            "\n",
            "Validation \n",
            "Accuracy 46.42%.\n",
            "Macro Accuracy 45.28%.\n",
            "Saving..\n",
            "\n",
            "Epoch: 6\n",
            "Training \n",
            "Loss: 0.98 .\n",
            "Accuracy: 64.75%.\n",
            "Macro Accuracy 64.53%.\n",
            "\n",
            "Validation \n",
            "Accuracy 48.99%.\n",
            "Macro Accuracy 48.04%.\n",
            "Saving..\n",
            "\n",
            "Epoch: 7\n",
            "Training \n",
            "Loss: 0.83 .\n",
            "Accuracy: 70.04%.\n",
            "Macro Accuracy 69.94%.\n",
            "\n",
            "Validation \n",
            "Accuracy 45.56%.\n",
            "Macro Accuracy 44.89%.\n",
            "\n",
            "Epoch: 8\n",
            "Training \n",
            "Loss: 0.70 .\n",
            "Accuracy: 74.83%.\n",
            "Macro Accuracy 74.79%.\n",
            "\n",
            "Validation \n",
            "Accuracy 44.56%.\n",
            "Macro Accuracy 43.17%.\n",
            "\n",
            "Epoch: 9\n",
            "Training \n",
            "Loss: 0.50 .\n",
            "Accuracy: 83.19%.\n",
            "Macro Accuracy 83.16%.\n",
            "\n",
            "Validation \n",
            "Accuracy 46.72%.\n",
            "Macro Accuracy 44.65%.\n",
            "\n",
            "Epoch: 10\n",
            "Training \n",
            "Loss: 0.38 .\n",
            "Accuracy: 87.09%.\n",
            "Macro Accuracy 87.08%.\n",
            "\n",
            "Validation \n",
            "Accuracy 47.58%.\n",
            "Macro Accuracy 45.76%.\n",
            "\n",
            "Epoch: 11\n",
            "Training \n",
            "Loss: 0.33 .\n",
            "Accuracy: 88.50%.\n",
            "Macro Accuracy 88.50%.\n",
            "\n",
            "Validation \n",
            "Accuracy 45.21%.\n",
            "Macro Accuracy 45.09%.\n",
            "\n",
            "Epoch: 12\n",
            "Training \n",
            "Loss: 0.23 .\n",
            "Accuracy: 92.29%.\n",
            "Macro Accuracy 92.29%.\n",
            "\n",
            "Validation \n",
            "Accuracy 49.70%.\n",
            "Macro Accuracy 49.15%.\n",
            "Saving..\n",
            "\n",
            "Epoch: 13\n",
            "Training \n",
            "Loss: 0.17 .\n",
            "Accuracy: 94.54%.\n",
            "Macro Accuracy 94.54%.\n",
            "\n",
            "Validation \n",
            "Accuracy 49.14%.\n",
            "Macro Accuracy 49.25%.\n",
            "\n",
            "Epoch: 14\n",
            "Training \n",
            "Loss: 0.13 .\n",
            "Accuracy: 95.67%.\n",
            "Macro Accuracy 95.67%.\n",
            "\n",
            "Validation \n",
            "Accuracy 51.86%.\n",
            "Macro Accuracy 51.85%.\n",
            "Saving..\n",
            "\n",
            "Epoch: 15\n",
            "Training \n",
            "Loss: 0.07 .\n",
            "Accuracy: 97.75%.\n",
            "Macro Accuracy 97.75%.\n",
            "\n",
            "Validation \n",
            "Accuracy 48.54%.\n",
            "Macro Accuracy 48.03%.\n",
            "\n",
            "Epoch: 16\n",
            "Training \n",
            "Loss: 0.05 .\n",
            "Accuracy: 98.51%.\n",
            "Macro Accuracy 98.52%.\n",
            "\n",
            "Validation \n",
            "Accuracy 51.86%.\n",
            "Macro Accuracy 51.63%.\n",
            "\n",
            "Epoch: 17\n",
            "Training \n",
            "Loss: 0.04 .\n",
            "Accuracy: 99.01%.\n",
            "Macro Accuracy 99.01%.\n",
            "\n",
            "Validation \n",
            "Accuracy 53.93%.\n",
            "Macro Accuracy 53.10%.\n",
            "Saving..\n",
            "\n",
            "Epoch: 18\n",
            "Training \n",
            "Loss: 0.02 .\n",
            "Accuracy: 99.44%.\n",
            "Macro Accuracy 99.43%.\n",
            "\n",
            "Validation \n",
            "Accuracy 53.28%.\n",
            "Macro Accuracy 52.88%.\n",
            "\n",
            "Epoch: 19\n",
            "Training \n",
            "Loss: 0.02 .\n",
            "Accuracy: 99.64%.\n",
            "Macro Accuracy 99.64%.\n",
            "\n",
            "Validation \n",
            "Accuracy 53.58%.\n",
            "Macro Accuracy 53.23%.\n",
            "\n",
            "Epoch: 20\n",
            "Training \n",
            "Loss: 0.01 .\n",
            "Accuracy: 99.74%.\n",
            "Macro Accuracy 99.74%.\n",
            "\n",
            "Validation \n",
            "Accuracy 54.44%.\n",
            "Macro Accuracy 54.16%.\n",
            "Saving..\n",
            "\n",
            "Epoch: 21\n",
            "Training \n",
            "Loss: 0.01 .\n",
            "Accuracy: 99.85%.\n",
            "Macro Accuracy 99.85%.\n",
            "\n",
            "Validation \n",
            "Accuracy 56.10%.\n",
            "Macro Accuracy 56.20%.\n",
            "Saving..\n",
            "\n",
            "Epoch: 22\n",
            "Training \n",
            "Loss: 0.01 .\n",
            "Accuracy: 99.92%.\n",
            "Macro Accuracy 99.92%.\n",
            "\n",
            "Validation \n",
            "Accuracy 55.54%.\n",
            "Macro Accuracy 55.49%.\n",
            "\n",
            "Epoch: 23\n",
            "Training \n",
            "Loss: 0.00 .\n",
            "Accuracy: 99.95%.\n",
            "Macro Accuracy 99.95%.\n",
            "\n",
            "Validation \n",
            "Accuracy 54.69%.\n",
            "Macro Accuracy 54.45%.\n",
            "\n",
            "Epoch: 24\n"
          ]
        },
        {
          "output_type": "error",
          "ename": "KeyboardInterrupt",
          "evalue": "ignored",
          "traceback": [
            "\u001b[0;31m---------------------------------------------------------------------------\u001b[0m",
            "\u001b[0;31mKeyboardInterrupt\u001b[0m                         Traceback (most recent call last)",
            "\u001b[0;32m<ipython-input-19-bca1502bb211>\u001b[0m in \u001b[0;36m<module>\u001b[0;34m()\u001b[0m\n\u001b[1;32m      4\u001b[0m \u001b[0mVal_acc\u001b[0m \u001b[0;34m=\u001b[0m \u001b[0;34m[\u001b[0m\u001b[0;34m]\u001b[0m\u001b[0;34m\u001b[0m\u001b[0;34m\u001b[0m\u001b[0m\n\u001b[1;32m      5\u001b[0m \u001b[0;32mfor\u001b[0m \u001b[0mepoch\u001b[0m \u001b[0;32min\u001b[0m \u001b[0mrange\u001b[0m\u001b[0;34m(\u001b[0m\u001b[0mstart_epoch\u001b[0m\u001b[0;34m,\u001b[0m \u001b[0mstart_epoch\u001b[0m\u001b[0;34m+\u001b[0m\u001b[0;36m75\u001b[0m\u001b[0;34m)\u001b[0m\u001b[0;34m:\u001b[0m\u001b[0;34m\u001b[0m\u001b[0;34m\u001b[0m\u001b[0m\n\u001b[0;32m----> 6\u001b[0;31m     \u001b[0macc\u001b[0m \u001b[0;34m,\u001b[0m \u001b[0mloss\u001b[0m \u001b[0;34m=\u001b[0m \u001b[0mtrain\u001b[0m\u001b[0;34m(\u001b[0m\u001b[0mepoch\u001b[0m\u001b[0;34m)\u001b[0m\u001b[0;34m\u001b[0m\u001b[0;34m\u001b[0m\u001b[0m\n\u001b[0m\u001b[1;32m      7\u001b[0m     \u001b[0mTrain_loss\u001b[0m\u001b[0;34m.\u001b[0m\u001b[0mappend\u001b[0m\u001b[0;34m(\u001b[0m\u001b[0mloss\u001b[0m\u001b[0;34m)\u001b[0m\u001b[0;34m\u001b[0m\u001b[0;34m\u001b[0m\u001b[0m\n\u001b[1;32m      8\u001b[0m     \u001b[0mTrain_acc\u001b[0m\u001b[0;34m.\u001b[0m\u001b[0mappend\u001b[0m\u001b[0;34m(\u001b[0m\u001b[0macc\u001b[0m\u001b[0;34m)\u001b[0m\u001b[0;34m\u001b[0m\u001b[0;34m\u001b[0m\u001b[0m\n",
            "\u001b[0;32m<ipython-input-18-68e7b2c8c63a>\u001b[0m in \u001b[0;36mtrain\u001b[0;34m(epoch)\u001b[0m\n\u001b[1;32m     21\u001b[0m         \u001b[0moptimizer\u001b[0m\u001b[0;34m.\u001b[0m\u001b[0mstep\u001b[0m\u001b[0;34m(\u001b[0m\u001b[0;34m)\u001b[0m\u001b[0;34m\u001b[0m\u001b[0;34m\u001b[0m\u001b[0m\n\u001b[1;32m     22\u001b[0m \u001b[0;34m\u001b[0m\u001b[0m\n\u001b[0;32m---> 23\u001b[0;31m         \u001b[0mtrain_loss\u001b[0m \u001b[0;34m+=\u001b[0m \u001b[0mloss\u001b[0m\u001b[0;34m.\u001b[0m\u001b[0mitem\u001b[0m\u001b[0;34m(\u001b[0m\u001b[0;34m)\u001b[0m\u001b[0;34m\u001b[0m\u001b[0;34m\u001b[0m\u001b[0m\n\u001b[0m\u001b[1;32m     24\u001b[0m         \u001b[0m_\u001b[0m\u001b[0;34m,\u001b[0m \u001b[0mpredicted\u001b[0m \u001b[0;34m=\u001b[0m \u001b[0moutputs\u001b[0m\u001b[0;34m.\u001b[0m\u001b[0mmax\u001b[0m\u001b[0;34m(\u001b[0m\u001b[0;36m1\u001b[0m\u001b[0;34m)\u001b[0m\u001b[0;34m\u001b[0m\u001b[0;34m\u001b[0m\u001b[0m\n\u001b[1;32m     25\u001b[0m         \u001b[0mpredicts\u001b[0m \u001b[0;34m=\u001b[0m \u001b[0mtorch\u001b[0m\u001b[0;34m.\u001b[0m\u001b[0mcat\u001b[0m\u001b[0;34m(\u001b[0m\u001b[0;34m(\u001b[0m\u001b[0mpredicts\u001b[0m\u001b[0;34m,\u001b[0m\u001b[0mpredicted\u001b[0m\u001b[0;34m)\u001b[0m\u001b[0;34m)\u001b[0m\u001b[0;34m\u001b[0m\u001b[0;34m\u001b[0m\u001b[0m\n",
            "\u001b[0;31mKeyboardInterrupt\u001b[0m: "
          ]
        }
      ],
      "source": [
        "start_epoch = 0 # start from epoch 0 or last checkpoint epoch\n",
        "Train_loss = []\n",
        "Train_acc = []\n",
        "Val_acc = []\n",
        "for epoch in range(start_epoch, start_epoch+75):\n",
        "    acc , loss = train(epoch)\n",
        "    Train_loss.append(loss)\n",
        "    Train_acc.append(acc)\n",
        "    Val_acc.append(validation(epoch))"
      ],
      "id": "0BYR4UpJKKfL"
    },
    {
      "cell_type": "code",
      "source": [
        "print(best_acc)\n",
        "plt.plot(Train_acc)\n",
        "plt.plot(Val_acc)"
      ],
      "metadata": {
        "colab": {
          "base_uri": "https://localhost:8080/",
          "height": 302
        },
        "id": "HIMf0KZbXR1c",
        "outputId": "80170c78-1dc0-4824-f220-a0abdcc078ee"
      },
      "id": "HIMf0KZbXR1c",
      "execution_count": 20,
      "outputs": [
        {
          "output_type": "stream",
          "name": "stdout",
          "text": [
            "56.09879032258065\n"
          ]
        },
        {
          "output_type": "execute_result",
          "data": {
            "text/plain": [
              "[<matplotlib.lines.Line2D at 0x7f370c5be0d0>]"
            ]
          },
          "metadata": {},
          "execution_count": 20
        },
        {
          "output_type": "display_data",
          "data": {
            "text/plain": [
              "<Figure size 432x288 with 1 Axes>"
            ],
            "image/png": "[encoded data removed]"
          },
          "metadata": {
            "needs_background": "light"
          }
        }
      ]
    },
    {
      "cell_type": "code",
      "execution_count": 21,
      "metadata": {
        "colab": {
          "base_uri": "https://localhost:8080/"
        },
        "id": "rcYAiIvxXbtK",
        "outputId": "7fa45050-e2f6-4a45-af7f-19122f574a1b"
      },
      "outputs": [
        {
          "output_type": "stream",
          "name": "stdout",
          "text": [
            "Testing Accuracy: 16.39% (1636/9984)\n",
            "Testing Macro Accuracy 10.59%.\n"
          ]
        }
      ],
      "source": [
        "net.eval()\n",
        "correct = 0\n",
        "total = 0\n",
        "predicts = torch.Tensor([]).to(\"cuda:0\")\n",
        "actuals = torch.Tensor([]).to(\"cuda:0\")\n",
        "with torch.no_grad():\n",
        "    for batch_idx, (inputs, targets) in enumerate(test_loader1):\n",
        "        inputs, targets = inputs.to(device), targets.to(device)\n",
        "        outputs = net(inputs)\n",
        "\n",
        "        _, predicted = outputs.max(1)\n",
        "        total += targets.size(0)\n",
        "        predicts = torch.cat((predicts,predicted))\n",
        "        actuals = torch.cat((actuals,targets))\n",
        "        correct += predicted.eq(targets).sum().item()\n",
        "print('Testing Accuracy: %.2f%% (%d/%d)' % (100.*correct/total, correct, total))\n",
        "macro_acc = 100*f1_score(actuals.cpu(),predicts.cpu() , average = \"macro\")\n",
        "print(\"Testing Macro Accuracy %.2f%%.\"% (macro_acc))"
      ],
      "id": "rcYAiIvxXbtK"
    },
    {
      "cell_type": "markdown",
      "source": [
        "## Res-Net 18 "
      ],
      "metadata": {
        "id": "Bvav--_6dw2P"
      },
      "id": "Bvav--_6dw2P"
    },
    {
      "cell_type": "code",
      "source": [
        "print('==> Building model..')\n",
        "device = torch.device(\"cuda:0\" if torch.cuda.is_available() else \"cpu\")\n",
        "net = ResNet18()\n",
        "net = net.to(device)\n"
      ],
      "metadata": {
        "colab": {
          "base_uri": "https://localhost:8080/"
        },
        "id": "p6vti7rdd1lk",
        "outputId": "7fbe7098-e8a8-4640-b622-fbd3f19467e2"
      },
      "id": "p6vti7rdd1lk",
      "execution_count": null,
      "outputs": [
        {
          "output_type": "stream",
          "name": "stdout",
          "text": [
            "==> Building model..\n"
          ]
        }
      ]
    },
    {
      "cell_type": "code",
      "execution_count": null,
      "metadata": {
        "id": "XI6n0inrSGFM",
        "colab": {
          "base_uri": "https://localhost:8080/"
        },
        "outputId": "5c1b763a-1f7f-41fd-dade-dba22227bded"
      },
      "outputs": [
        {
          "output_type": "stream",
          "name": "stdout",
          "text": [
            "\n",
            "Epoch: 0\n",
            "Training \n",
            "Loss: 2.33 .\n",
            "Accuracy: 7.51%.\n",
            "Macro Accuracy 5.79%.\n",
            "\n",
            "Validation \n",
            "Accuracy 7.29%.\n",
            "Macro Accuracy 5.21%.\n",
            "Saving..\n",
            "\n",
            "Epoch: 1\n",
            "Training \n",
            "Loss: 2.34 .\n",
            "Accuracy: 7.56%.\n",
            "Macro Accuracy 5.62%.\n",
            "\n",
            "Validation \n",
            "Accuracy 6.98%.\n",
            "Macro Accuracy 5.29%.\n",
            "\n",
            "Epoch: 2\n",
            "Training \n",
            "Loss: 2.34 .\n",
            "Accuracy: 7.81%.\n",
            "Macro Accuracy 5.76%.\n",
            "\n",
            "Validation \n",
            "Accuracy 7.08%.\n",
            "Macro Accuracy 5.15%.\n",
            "\n",
            "Epoch: 3\n",
            "Training \n",
            "Loss: 2.34 .\n",
            "Accuracy: 7.28%.\n",
            "Macro Accuracy 5.36%.\n",
            "\n",
            "Validation \n",
            "Accuracy 8.12%.\n",
            "Macro Accuracy 6.05%.\n",
            "Saving..\n",
            "\n",
            "Epoch: 4\n",
            "Training \n",
            "Loss: 2.33 .\n",
            "Accuracy: 7.43%.\n",
            "Macro Accuracy 5.65%.\n",
            "\n",
            "Validation \n",
            "Accuracy 6.46%.\n",
            "Macro Accuracy 5.09%.\n",
            "\n",
            "Epoch: 5\n",
            "Training \n",
            "Loss: 2.34 .\n",
            "Accuracy: 6.65%.\n",
            "Macro Accuracy 4.76%.\n",
            "\n",
            "Validation \n",
            "Accuracy 7.50%.\n",
            "Macro Accuracy 6.34%.\n",
            "\n",
            "Epoch: 6\n",
            "Training \n",
            "Loss: 2.34 .\n",
            "Accuracy: 8.37%.\n",
            "Macro Accuracy 6.27%.\n",
            "\n",
            "Validation \n",
            "Accuracy 7.19%.\n",
            "Macro Accuracy 5.49%.\n",
            "\n",
            "Epoch: 7\n",
            "Training \n",
            "Loss: 2.33 .\n",
            "Accuracy: 8.11%.\n",
            "Macro Accuracy 5.99%.\n",
            "\n",
            "Validation \n",
            "Accuracy 6.35%.\n",
            "Macro Accuracy 4.61%.\n",
            "\n",
            "Epoch: 8\n",
            "Training \n",
            "Loss: 2.34 .\n",
            "Accuracy: 7.59%.\n",
            "Macro Accuracy 5.82%.\n",
            "\n",
            "Validation \n",
            "Accuracy 7.08%.\n",
            "Macro Accuracy 5.59%.\n",
            "\n",
            "Epoch: 9\n",
            "Training \n",
            "Loss: 2.33 .\n",
            "Accuracy: 7.23%.\n",
            "Macro Accuracy 5.33%.\n",
            "\n",
            "Validation \n",
            "Accuracy 6.67%.\n",
            "Macro Accuracy 5.16%.\n",
            "\n",
            "Epoch: 10\n",
            "Training \n",
            "Loss: 2.34 .\n",
            "Accuracy: 7.59%.\n",
            "Macro Accuracy 5.76%.\n",
            "\n",
            "Validation \n",
            "Accuracy 8.02%.\n",
            "Macro Accuracy 6.17%.\n",
            "\n",
            "Epoch: 11\n",
            "Training \n",
            "Loss: 2.33 .\n",
            "Accuracy: 6.96%.\n",
            "Macro Accuracy 5.32%.\n",
            "\n",
            "Validation \n",
            "Accuracy 7.60%.\n",
            "Macro Accuracy 5.75%.\n",
            "\n",
            "Epoch: 12\n",
            "Training \n",
            "Loss: 2.34 .\n",
            "Accuracy: 7.64%.\n",
            "Macro Accuracy 5.53%.\n",
            "\n",
            "Validation \n",
            "Accuracy 7.92%.\n",
            "Macro Accuracy 5.90%.\n",
            "\n",
            "Epoch: 13\n",
            "Training \n",
            "Loss: 2.34 .\n",
            "Accuracy: 7.16%.\n",
            "Macro Accuracy 5.20%.\n",
            "\n",
            "Validation \n",
            "Accuracy 7.40%.\n",
            "Macro Accuracy 5.64%.\n",
            "\n",
            "Epoch: 14\n",
            "Training \n",
            "Loss: 2.34 .\n",
            "Accuracy: 7.54%.\n",
            "Macro Accuracy 5.71%.\n",
            "\n",
            "Validation \n",
            "Accuracy 6.77%.\n",
            "Macro Accuracy 5.41%.\n",
            "\n",
            "Epoch: 15\n",
            "Training \n",
            "Loss: 2.34 .\n",
            "Accuracy: 7.06%.\n",
            "Macro Accuracy 5.21%.\n",
            "\n",
            "Validation \n",
            "Accuracy 7.60%.\n",
            "Macro Accuracy 5.39%.\n",
            "\n",
            "Epoch: 16\n",
            "Training \n",
            "Loss: 2.33 .\n",
            "Accuracy: 7.69%.\n",
            "Macro Accuracy 5.78%.\n",
            "\n",
            "Validation \n",
            "Accuracy 7.19%.\n",
            "Macro Accuracy 5.62%.\n",
            "\n",
            "Epoch: 17\n",
            "Training \n",
            "Loss: 2.34 .\n",
            "Accuracy: 6.80%.\n",
            "Macro Accuracy 5.03%.\n",
            "\n",
            "Validation \n",
            "Accuracy 8.23%.\n",
            "Macro Accuracy 6.08%.\n",
            "Saving..\n",
            "\n",
            "Epoch: 18\n",
            "Training \n",
            "Loss: 2.33 .\n",
            "Accuracy: 7.64%.\n",
            "Macro Accuracy 5.61%.\n",
            "\n",
            "Validation \n",
            "Accuracy 7.29%.\n",
            "Macro Accuracy 5.78%.\n",
            "\n",
            "Epoch: 19\n",
            "Training \n",
            "Loss: 2.34 .\n",
            "Accuracy: 6.60%.\n",
            "Macro Accuracy 4.97%.\n",
            "\n",
            "Validation \n",
            "Accuracy 7.19%.\n",
            "Macro Accuracy 5.23%.\n",
            "\n",
            "Epoch: 20\n",
            "Training \n",
            "Loss: 2.34 .\n",
            "Accuracy: 7.13%.\n",
            "Macro Accuracy 5.32%.\n",
            "\n",
            "Validation \n",
            "Accuracy 7.29%.\n",
            "Macro Accuracy 5.59%.\n",
            "\n",
            "Epoch: 21\n",
            "Training \n",
            "Loss: 2.34 .\n",
            "Accuracy: 7.59%.\n",
            "Macro Accuracy 5.65%.\n",
            "\n",
            "Validation \n",
            "Accuracy 8.02%.\n",
            "Macro Accuracy 6.39%.\n",
            "\n",
            "Epoch: 22\n",
            "Training \n",
            "Loss: 2.34 .\n",
            "Accuracy: 7.54%.\n",
            "Macro Accuracy 5.55%.\n",
            "\n",
            "Validation \n",
            "Accuracy 6.56%.\n",
            "Macro Accuracy 4.76%.\n",
            "\n",
            "Epoch: 23\n",
            "Training \n",
            "Loss: 2.34 .\n",
            "Accuracy: 7.23%.\n",
            "Macro Accuracy 5.42%.\n",
            "\n",
            "Validation \n",
            "Accuracy 6.04%.\n",
            "Macro Accuracy 4.59%.\n",
            "\n",
            "Epoch: 24\n",
            "Training \n",
            "Loss: 2.34 .\n",
            "Accuracy: 7.79%.\n",
            "Macro Accuracy 6.06%.\n",
            "\n",
            "Validation \n",
            "Accuracy 7.08%.\n",
            "Macro Accuracy 5.41%.\n",
            "\n",
            "Epoch: 25\n",
            "Training \n",
            "Loss: 2.34 .\n",
            "Accuracy: 7.89%.\n",
            "Macro Accuracy 5.77%.\n",
            "\n",
            "Validation \n",
            "Accuracy 7.19%.\n",
            "Macro Accuracy 5.58%.\n",
            "\n",
            "Epoch: 26\n",
            "Training \n",
            "Loss: 2.34 .\n",
            "Accuracy: 8.37%.\n",
            "Macro Accuracy 6.24%.\n",
            "\n",
            "Validation \n",
            "Accuracy 8.02%.\n",
            "Macro Accuracy 6.25%.\n",
            "\n",
            "Epoch: 27\n",
            "Training \n",
            "Loss: 2.34 .\n",
            "Accuracy: 7.36%.\n",
            "Macro Accuracy 5.51%.\n",
            "\n",
            "Validation \n",
            "Accuracy 7.71%.\n",
            "Macro Accuracy 5.72%.\n",
            "\n",
            "Epoch: 28\n",
            "Training \n",
            "Loss: 2.34 .\n",
            "Accuracy: 7.74%.\n",
            "Macro Accuracy 5.80%.\n",
            "\n",
            "Validation \n",
            "Accuracy 8.44%.\n",
            "Macro Accuracy 6.63%.\n",
            "Saving..\n",
            "\n",
            "Epoch: 29\n",
            "Training \n",
            "Loss: 2.34 .\n",
            "Accuracy: 7.43%.\n",
            "Macro Accuracy 5.40%.\n",
            "\n",
            "Validation \n",
            "Accuracy 7.19%.\n",
            "Macro Accuracy 5.17%.\n",
            "\n",
            "Epoch: 30\n",
            "Training \n",
            "Loss: 2.34 .\n",
            "Accuracy: 7.16%.\n",
            "Macro Accuracy 5.32%.\n",
            "\n",
            "Validation \n",
            "Accuracy 5.21%.\n",
            "Macro Accuracy 4.03%.\n",
            "\n",
            "Epoch: 31\n",
            "Training \n",
            "Loss: 2.34 .\n",
            "Accuracy: 7.18%.\n",
            "Macro Accuracy 5.32%.\n",
            "\n",
            "Validation \n",
            "Accuracy 5.31%.\n",
            "Macro Accuracy 4.36%.\n",
            "\n",
            "Epoch: 32\n",
            "Training \n",
            "Loss: 2.33 .\n",
            "Accuracy: 7.74%.\n",
            "Macro Accuracy 5.61%.\n",
            "\n",
            "Validation \n",
            "Accuracy 6.56%.\n",
            "Macro Accuracy 5.03%.\n",
            "\n",
            "Epoch: 33\n",
            "Training \n",
            "Loss: 2.34 .\n",
            "Accuracy: 7.08%.\n",
            "Macro Accuracy 5.16%.\n",
            "\n",
            "Validation \n",
            "Accuracy 8.12%.\n",
            "Macro Accuracy 6.04%.\n",
            "\n",
            "Epoch: 34\n",
            "Training \n",
            "Loss: 2.34 .\n",
            "Accuracy: 7.23%.\n",
            "Macro Accuracy 5.52%.\n",
            "\n",
            "Validation \n",
            "Accuracy 6.77%.\n",
            "Macro Accuracy 5.01%.\n",
            "\n",
            "Epoch: 35\n",
            "Training \n",
            "Loss: 2.34 .\n",
            "Accuracy: 7.43%.\n",
            "Macro Accuracy 5.59%.\n",
            "\n",
            "Validation \n",
            "Accuracy 7.81%.\n",
            "Macro Accuracy 5.86%.\n",
            "\n",
            "Epoch: 36\n",
            "Training \n",
            "Loss: 2.34 .\n",
            "Accuracy: 7.21%.\n",
            "Macro Accuracy 5.45%.\n",
            "\n",
            "Validation \n",
            "Accuracy 7.19%.\n",
            "Macro Accuracy 5.32%.\n",
            "\n",
            "Epoch: 37\n",
            "Training \n",
            "Loss: 2.34 .\n",
            "Accuracy: 7.64%.\n",
            "Macro Accuracy 5.78%.\n",
            "\n",
            "Validation \n",
            "Accuracy 6.56%.\n",
            "Macro Accuracy 5.12%.\n",
            "\n",
            "Epoch: 38\n",
            "Training \n",
            "Loss: 2.34 .\n",
            "Accuracy: 7.41%.\n",
            "Macro Accuracy 5.40%.\n",
            "\n",
            "Validation \n",
            "Accuracy 7.81%.\n",
            "Macro Accuracy 6.69%.\n",
            "\n",
            "Epoch: 39\n",
            "Training \n",
            "Loss: 2.34 .\n",
            "Accuracy: 8.44%.\n",
            "Macro Accuracy 6.45%.\n",
            "\n",
            "Validation \n",
            "Accuracy 6.25%.\n",
            "Macro Accuracy 4.93%.\n",
            "\n",
            "Epoch: 40\n",
            "Training \n",
            "Loss: 2.34 .\n",
            "Accuracy: 6.98%.\n",
            "Macro Accuracy 5.35%.\n",
            "\n",
            "Validation \n",
            "Accuracy 6.46%.\n",
            "Macro Accuracy 4.89%.\n",
            "\n",
            "Epoch: 41\n",
            "Training \n",
            "Loss: 2.34 .\n",
            "Accuracy: 7.01%.\n",
            "Macro Accuracy 5.28%.\n",
            "\n",
            "Validation \n",
            "Accuracy 6.04%.\n",
            "Macro Accuracy 4.63%.\n",
            "\n",
            "Epoch: 42\n",
            "Training \n",
            "Loss: 2.34 .\n",
            "Accuracy: 7.11%.\n",
            "Macro Accuracy 5.19%.\n",
            "\n",
            "Validation \n",
            "Accuracy 7.71%.\n",
            "Macro Accuracy 5.73%.\n",
            "\n",
            "Epoch: 43\n",
            "Training \n",
            "Loss: 2.34 .\n",
            "Accuracy: 7.56%.\n",
            "Macro Accuracy 5.64%.\n",
            "\n",
            "Validation \n",
            "Accuracy 6.35%.\n",
            "Macro Accuracy 4.33%.\n",
            "\n",
            "Epoch: 44\n",
            "Training \n",
            "Loss: 2.34 .\n",
            "Accuracy: 7.74%.\n",
            "Macro Accuracy 5.81%.\n",
            "\n",
            "Validation \n",
            "Accuracy 7.60%.\n",
            "Macro Accuracy 5.67%.\n",
            "\n",
            "Epoch: 45\n",
            "Training \n",
            "Loss: 2.34 .\n",
            "Accuracy: 7.59%.\n",
            "Macro Accuracy 5.61%.\n",
            "\n",
            "Validation \n",
            "Accuracy 8.75%.\n",
            "Macro Accuracy 6.29%.\n",
            "Saving..\n",
            "\n",
            "Epoch: 46\n",
            "Training \n",
            "Loss: 2.33 .\n",
            "Accuracy: 7.64%.\n",
            "Macro Accuracy 5.51%.\n",
            "\n",
            "Validation \n",
            "Accuracy 7.81%.\n",
            "Macro Accuracy 5.98%.\n",
            "\n",
            "Epoch: 47\n",
            "Training \n",
            "Loss: 2.34 .\n",
            "Accuracy: 7.94%.\n",
            "Macro Accuracy 5.89%.\n",
            "\n",
            "Validation \n",
            "Accuracy 7.29%.\n",
            "Macro Accuracy 5.74%.\n",
            "\n",
            "Epoch: 48\n",
            "Training \n",
            "Loss: 2.34 .\n",
            "Accuracy: 7.31%.\n",
            "Macro Accuracy 5.40%.\n",
            "\n",
            "Validation \n",
            "Accuracy 8.02%.\n",
            "Macro Accuracy 6.21%.\n",
            "\n",
            "Epoch: 49\n",
            "Training \n",
            "Loss: 2.34 .\n",
            "Accuracy: 7.76%.\n",
            "Macro Accuracy 5.85%.\n",
            "\n",
            "Validation \n",
            "Accuracy 5.10%.\n",
            "Macro Accuracy 3.75%.\n"
          ]
        }
      ],
      "source": [
        "best_acc = 0.0\n",
        "start_epoch = 0 # start from epoch 0 or last checkpoint epoch\n",
        "Train_loss = []\n",
        "Train_acc = []\n",
        "Val_acc = []\n",
        "for epoch in range(start_epoch, start_epoch+50):\n",
        "    acc , loss = train(epoch)\n",
        "    Train_loss.append(loss)\n",
        "    Train_acc.append(acc)\n",
        "    Val_acc.append(validation(epoch))"
      ],
      "id": "XI6n0inrSGFM"
    },
    {
      "cell_type": "code",
      "source": [
        "print(best_acc)\n",
        "plt.plot(Train_acc)\n",
        "plt.plot(Val_acc)"
      ],
      "metadata": {
        "colab": {
          "base_uri": "https://localhost:8080/",
          "height": 302
        },
        "id": "S7Zou5B0d8g1",
        "outputId": "79eb66f5-1816-4275-dd36-0f5f37e9259a"
      },
      "id": "S7Zou5B0d8g1",
      "execution_count": null,
      "outputs": [
        {
          "output_type": "stream",
          "name": "stdout",
          "text": [
            "8.75\n"
          ]
        },
        {
          "output_type": "execute_result",
          "data": {
            "text/plain": [
              "[<matplotlib.lines.Line2D at 0x7f11393448d0>]"
            ]
          },
          "metadata": {},
          "execution_count": 160
        },
        {
          "output_type": "display_data",
          "data": {
            "text/plain": [
              "<Figure size 432x288 with 1 Axes>"
            ],
            "image/png": "[encoded data removed]"
          },
          "metadata": {
            "needs_background": "light"
          }
        }
      ]
    },
    {
      "cell_type": "markdown",
      "source": [
        "## Res-Net 152"
      ],
      "metadata": {
        "id": "wj_Ls2ByehB2"
      },
      "id": "wj_Ls2ByehB2"
    },
    {
      "cell_type": "code",
      "source": [
        "print('==> Building model..')\n",
        "device = torch.device(\"cuda:0\" if torch.cuda.is_available() else \"cpu\")\n",
        "net = ResNet152()\n",
        "net = net.to(device)\n"
      ],
      "metadata": {
        "colab": {
          "base_uri": "https://localhost:8080/"
        },
        "outputId": "1d826f93-c5cc-4f3d-c5de-4168b5bc32c3",
        "id": "WZu0dsE8ehB3"
      },
      "execution_count": null,
      "outputs": [
        {
          "output_type": "stream",
          "name": "stdout",
          "text": [
            "==> Building model..\n"
          ]
        }
      ],
      "id": "WZu0dsE8ehB3"
    },
    {
      "cell_type": "code",
      "execution_count": null,
      "metadata": {
        "colab": {
          "base_uri": "https://localhost:8080/"
        },
        "outputId": "198c5026-3301-4659-ec24-4819e79f06c6",
        "id": "_ruB8a-fehB3"
      },
      "outputs": [
        {
          "output_type": "stream",
          "name": "stdout",
          "text": [
            "\n",
            "Epoch: 0\n",
            "Training \n",
            "Loss: 2.50 .\n",
            "Accuracy: 10.69%.\n",
            "Macro Accuracy 1.93%.\n",
            "\n",
            "Validation \n",
            "Accuracy 9.48%.\n",
            "Macro Accuracy 1.73%.\n",
            "Saving..\n",
            "\n",
            "Epoch: 1\n",
            "Training \n",
            "Loss: 2.51 .\n",
            "Accuracy: 10.61%.\n",
            "Macro Accuracy 1.92%.\n",
            "\n",
            "Validation \n",
            "Accuracy 9.48%.\n",
            "Macro Accuracy 1.73%.\n",
            "\n",
            "Epoch: 2\n",
            "Training \n",
            "Loss: 2.51 .\n",
            "Accuracy: 10.64%.\n",
            "Macro Accuracy 1.92%.\n",
            "\n",
            "Validation \n",
            "Accuracy 9.48%.\n",
            "Macro Accuracy 1.73%.\n",
            "\n",
            "Epoch: 3\n",
            "Training \n",
            "Loss: 2.51 .\n",
            "Accuracy: 10.61%.\n",
            "Macro Accuracy 1.92%.\n",
            "\n",
            "Validation \n",
            "Accuracy 9.48%.\n",
            "Macro Accuracy 1.73%.\n",
            "\n",
            "Epoch: 4\n",
            "Training \n",
            "Loss: 2.51 .\n",
            "Accuracy: 10.61%.\n",
            "Macro Accuracy 1.92%.\n",
            "\n",
            "Validation \n",
            "Accuracy 9.48%.\n",
            "Macro Accuracy 1.73%.\n",
            "\n",
            "Epoch: 5\n",
            "Training \n",
            "Loss: 2.51 .\n",
            "Accuracy: 10.64%.\n",
            "Macro Accuracy 1.92%.\n",
            "\n",
            "Validation \n",
            "Accuracy 9.48%.\n",
            "Macro Accuracy 1.73%.\n",
            "\n",
            "Epoch: 6\n",
            "Training \n",
            "Loss: 2.51 .\n",
            "Accuracy: 10.56%.\n",
            "Macro Accuracy 1.91%.\n",
            "\n",
            "Validation \n",
            "Accuracy 9.48%.\n",
            "Macro Accuracy 1.73%.\n",
            "\n",
            "Epoch: 7\n",
            "Training \n",
            "Loss: 2.51 .\n",
            "Accuracy: 10.58%.\n",
            "Macro Accuracy 1.91%.\n",
            "\n",
            "Validation \n",
            "Accuracy 9.48%.\n",
            "Macro Accuracy 1.73%.\n",
            "\n",
            "Epoch: 8\n",
            "Training \n",
            "Loss: 2.51 .\n",
            "Accuracy: 10.61%.\n",
            "Macro Accuracy 1.92%.\n",
            "\n",
            "Validation \n",
            "Accuracy 9.48%.\n",
            "Macro Accuracy 1.73%.\n",
            "\n",
            "Epoch: 9\n",
            "Training \n",
            "Loss: 2.51 .\n",
            "Accuracy: 10.61%.\n",
            "Macro Accuracy 1.92%.\n",
            "\n",
            "Validation \n",
            "Accuracy 9.48%.\n",
            "Macro Accuracy 1.73%.\n",
            "\n",
            "Epoch: 10\n",
            "Training \n",
            "Loss: 2.51 .\n",
            "Accuracy: 10.58%.\n",
            "Macro Accuracy 1.92%.\n",
            "\n",
            "Validation \n",
            "Accuracy 9.48%.\n",
            "Macro Accuracy 1.74%.\n",
            "\n",
            "Epoch: 11\n",
            "Training \n",
            "Loss: 2.51 .\n",
            "Accuracy: 10.48%.\n",
            "Macro Accuracy 1.90%.\n",
            "\n",
            "Validation \n",
            "Accuracy 9.48%.\n",
            "Macro Accuracy 1.73%.\n",
            "\n",
            "Epoch: 12\n",
            "Training \n",
            "Loss: 2.51 .\n",
            "Accuracy: 10.56%.\n",
            "Macro Accuracy 1.91%.\n",
            "\n",
            "Validation \n",
            "Accuracy 9.48%.\n",
            "Macro Accuracy 1.73%.\n",
            "\n",
            "Epoch: 13\n",
            "Training \n",
            "Loss: 2.51 .\n",
            "Accuracy: 10.53%.\n",
            "Macro Accuracy 1.91%.\n",
            "\n",
            "Validation \n",
            "Accuracy 9.48%.\n",
            "Macro Accuracy 1.73%.\n",
            "\n",
            "Epoch: 14\n",
            "Training \n",
            "Loss: 2.51 .\n",
            "Accuracy: 10.64%.\n",
            "Macro Accuracy 1.92%.\n",
            "\n",
            "Validation \n",
            "Accuracy 9.48%.\n",
            "Macro Accuracy 1.74%.\n",
            "\n",
            "Epoch: 15\n",
            "Training \n",
            "Loss: 2.51 .\n",
            "Accuracy: 10.51%.\n",
            "Macro Accuracy 1.90%.\n",
            "\n",
            "Validation \n",
            "Accuracy 9.48%.\n",
            "Macro Accuracy 1.73%.\n",
            "\n",
            "Epoch: 16\n",
            "Training \n",
            "Loss: 2.51 .\n",
            "Accuracy: 10.61%.\n",
            "Macro Accuracy 1.92%.\n",
            "\n",
            "Validation \n",
            "Accuracy 9.48%.\n",
            "Macro Accuracy 1.73%.\n",
            "\n",
            "Epoch: 17\n",
            "Training \n",
            "Loss: 2.52 .\n",
            "Accuracy: 10.56%.\n",
            "Macro Accuracy 1.91%.\n",
            "\n",
            "Validation \n",
            "Accuracy 9.48%.\n",
            "Macro Accuracy 1.73%.\n",
            "\n",
            "Epoch: 18\n",
            "Training \n",
            "Loss: 2.51 .\n",
            "Accuracy: 10.56%.\n",
            "Macro Accuracy 1.91%.\n",
            "\n",
            "Validation \n",
            "Accuracy 9.48%.\n",
            "Macro Accuracy 1.73%.\n",
            "\n",
            "Epoch: 19\n",
            "Training \n",
            "Loss: 2.51 .\n",
            "Accuracy: 10.64%.\n",
            "Macro Accuracy 1.92%.\n",
            "\n",
            "Validation \n",
            "Accuracy 9.48%.\n",
            "Macro Accuracy 1.73%.\n",
            "\n",
            "Epoch: 20\n",
            "Training \n",
            "Loss: 2.51 .\n",
            "Accuracy: 10.64%.\n",
            "Macro Accuracy 1.92%.\n",
            "\n",
            "Validation \n",
            "Accuracy 9.38%.\n",
            "Macro Accuracy 1.72%.\n",
            "\n",
            "Epoch: 21\n",
            "Training \n",
            "Loss: 2.51 .\n",
            "Accuracy: 10.58%.\n",
            "Macro Accuracy 1.91%.\n",
            "\n",
            "Validation \n",
            "Accuracy 9.48%.\n",
            "Macro Accuracy 1.73%.\n",
            "\n",
            "Epoch: 22\n",
            "Training \n",
            "Loss: 2.51 .\n",
            "Accuracy: 10.61%.\n",
            "Macro Accuracy 1.92%.\n",
            "\n",
            "Validation \n",
            "Accuracy 9.48%.\n",
            "Macro Accuracy 1.73%.\n",
            "\n",
            "Epoch: 23\n",
            "Training \n",
            "Loss: 2.51 .\n",
            "Accuracy: 10.58%.\n",
            "Macro Accuracy 1.91%.\n",
            "\n",
            "Validation \n",
            "Accuracy 9.48%.\n",
            "Macro Accuracy 1.73%.\n",
            "\n",
            "Epoch: 24\n",
            "Training \n",
            "Loss: 2.51 .\n",
            "Accuracy: 10.58%.\n",
            "Macro Accuracy 1.96%.\n",
            "\n",
            "Validation \n",
            "Accuracy 9.38%.\n",
            "Macro Accuracy 1.72%.\n",
            "\n",
            "Epoch: 25\n",
            "Training \n",
            "Loss: 2.51 .\n",
            "Accuracy: 10.61%.\n",
            "Macro Accuracy 1.92%.\n",
            "\n",
            "Validation \n",
            "Accuracy 9.48%.\n",
            "Macro Accuracy 1.73%.\n",
            "\n",
            "Epoch: 26\n",
            "Training \n",
            "Loss: 2.51 .\n",
            "Accuracy: 10.64%.\n",
            "Macro Accuracy 1.97%.\n",
            "\n",
            "Validation \n",
            "Accuracy 9.48%.\n",
            "Macro Accuracy 1.73%.\n",
            "\n",
            "Epoch: 27\n",
            "Training \n",
            "Loss: 2.51 .\n",
            "Accuracy: 10.61%.\n",
            "Macro Accuracy 1.92%.\n",
            "\n",
            "Validation \n",
            "Accuracy 9.48%.\n",
            "Macro Accuracy 1.73%.\n",
            "\n",
            "Epoch: 28\n",
            "Training \n",
            "Loss: 2.51 .\n",
            "Accuracy: 10.61%.\n",
            "Macro Accuracy 1.92%.\n",
            "\n",
            "Validation \n",
            "Accuracy 9.38%.\n",
            "Macro Accuracy 1.71%.\n",
            "\n",
            "Epoch: 29\n",
            "Training \n",
            "Loss: 2.50 .\n",
            "Accuracy: 10.64%.\n",
            "Macro Accuracy 1.92%.\n",
            "\n",
            "Validation \n",
            "Accuracy 9.48%.\n",
            "Macro Accuracy 1.73%.\n"
          ]
        }
      ],
      "source": [
        "best_acc = 0.0\n",
        "start_epoch = 0 # start from epoch 0 or last checkpoint epoch\n",
        "Train_loss = []\n",
        "Train_acc = []\n",
        "Val_acc = []\n",
        "for epoch in range(start_epoch, start_epoch+30):\n",
        "    acc , loss = train(epoch)\n",
        "    Train_loss.append(loss)\n",
        "    Train_acc.append(acc)\n",
        "    Val_acc.append(validation(epoch))"
      ],
      "id": "_ruB8a-fehB3"
    },
    {
      "cell_type": "code",
      "source": [
        "print(best_acc)\n",
        "plt.plot(Train_acc)\n",
        "plt.plot(Val_acc)"
      ],
      "metadata": {
        "colab": {
          "base_uri": "https://localhost:8080/",
          "height": 302
        },
        "outputId": "7c91d040-5fc2-414e-c3ca-d4f11af84bb9",
        "id": "Vc6NT1qAehB3"
      },
      "execution_count": null,
      "outputs": [
        {
          "output_type": "stream",
          "name": "stdout",
          "text": [
            "9.479166666666666\n"
          ]
        },
        {
          "output_type": "execute_result",
          "data": {
            "text/plain": [
              "[<matplotlib.lines.Line2D at 0x7f1139127350>]"
            ]
          },
          "metadata": {},
          "execution_count": 163
        },
        {
          "output_type": "display_data",
          "data": {
            "text/plain": [
              "<Figure size 432x288 with 1 Axes>"
            ],
            "image/png": "[encoded data removed]"
          },
          "metadata": {
            "needs_background": "light"
          }
        }
      ],
      "id": "Vc6NT1qAehB3"
    },
    {
      "cell_type": "code",
      "source": [
        ""
      ],
      "metadata": {
        "id": "0a6miVUuoMHF"
      },
      "id": "0a6miVUuoMHF",
      "execution_count": null,
      "outputs": []
    }
  ],
  "metadata": {
    "accelerator": "GPU",
    "colab": {
      "collapsed_sections": [],
      "name": "Barlow_twins_on_10_percent.ipynb",
      "provenance": []
    },
    "gpuClass": "standard",
    "jupytext": {
      "cell_metadata_filter": "colab_type,id,colab,-all",
      "formats": "ipynb,py:percent",
      "main_language": "python"
    },
    "kernelspec": {
      "display_name": "Python 3",
      "name": "python3"
    },
    "language_info": {
      "name": "python"
    },
    "papermill": {
      "default_parameters": {},
      "duration": 15.139577,
      "end_time": "2022-05-03T01:21:09.919938",
      "environment_variables": {},
      "exception": null,
      "input_path": "lightning_examples/barlow-twins/barlow_twins.ipynb",
      "output_path": ".notebooks/lightning_examples/barlow-twins.ipynb",
      "parameters": {},
      "start_time": "2022-05-03T01:20:54.780361",
      "version": "2.3.4"
    }
  },
  "nbformat": 4,
  "nbformat_minor": 5
}